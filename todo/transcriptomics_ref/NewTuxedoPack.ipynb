{
  "nbformat": 4,
  "nbformat_minor": 0,
  "metadata": {
    "colab": {
      "name": "NewTuxedoPack.ipynb",
      "provenance": [],
      "collapsed_sections": [],
      "authorship_tag": "ABX9TyNgMyNNr+UXQxxhIGdIFxMa",
      "include_colab_link": true
    },
    "kernelspec": {
      "name": "python3",
      "display_name": "Python 3"
    },
    "language_info": {
      "name": "python"
    }
  },
  "cells": [
    {
      "cell_type": "markdown",
      "metadata": {
        "id": "view-in-github",
        "colab_type": "text"
      },
      "source": [
        "<a href=\"https://colab.research.google.com/github/C0RD3LL/Omics/blob/main/NewTuxedoPack.ipynb\" target=\"_parent\"><img src=\"https://colab.research.google.com/assets/colab-badge.svg\" alt=\"Open In Colab\"/></a>"
      ]
    },
    {
      "cell_type": "code",
      "metadata": {
        "colab": {
          "base_uri": "https://localhost:8080/"
        },
        "id": "5KUpfzmlqAky",
        "cellView": "form",
        "outputId": "038f565c-77ee-41c4-cf45-cecf36d26778"
      },
      "source": [
        "#@title\n",
        "!pip install -q condacolab\n",
        "import condacolab\n",
        "condacolab.install()"
      ],
      "execution_count": 31,
      "outputs": [
        {
          "output_type": "stream",
          "name": "stdout",
          "text": [
            "✨🍰✨ Everything looks OK!\n"
          ]
        }
      ]
    },
    {
      "cell_type": "code",
      "metadata": {
        "id": "f41iwCIzV0Sw",
        "colab": {
          "base_uri": "https://localhost:8080/"
        },
        "cellView": "form",
        "outputId": "54ac7509-aa5d-4864-fb14-552742cd04f8"
      },
      "source": [
        "#@title\n",
        "%load_ext rpy2.ipython"
      ],
      "execution_count": 32,
      "outputs": [
        {
          "output_type": "stream",
          "name": "stdout",
          "text": [
            "The rpy2.ipython extension is already loaded. To reload it, use:\n",
            "  %reload_ext rpy2.ipython\n"
          ]
        }
      ]
    },
    {
      "cell_type": "markdown",
      "metadata": {
        "id": "9ApaZeNTJEUX"
      },
      "source": [
        "# Transcript-level expression analysis of RNA-seq experiments with HISAT, StringTie and Ballgown\n",
        "RNA-seq experiments can be used to measure many phenomena. We consider an experiment that compares two biological conditions, such as case versus control, wild type versus mutant or disease versus normal comparisons. For each condition, we include six replicates, noting that three is the minimum number of replicates for valid statistical results. \n",
        "\n",
        "The example data used in this protocol comprise human RNA-seq. (Some program parameters may require adjustment to optimize the results for genomes with smaller intron sizes.) The data files are very large, as is often the case for high-throughput RNA-seq experiments; thus, to make the protocol faster and simpler for novice users, we have extracted a subset of the reads mapping to human chromosome X, which is a relatively gene-rich chromosome that spans 151 megabases (Mb), ~5% of the genome. The protocol describes the end-to-end analysis of these reads, but it will work equally well with the full data set, for which it will require significantly more computing time.\n",
        "\n",
        "An overview of the ‘new Tuxedo’ protocol.\n",
        "\n",
        "- Steps 1 & 2: aligning the RNA-seq reads to the genome: <20 min\n",
        "- Steps 3–6: assembly and quantification of expressed genes and transcripts: ~15 min \n",
        "- Steps 7–16: Running of differential expression analysis protocol: ~5 min\n",
        "- Steps 17–21: data visualization: variable"
      ]
    },
    {
      "cell_type": "code",
      "metadata": {
        "id": "VzmMLVm11YrV",
        "colab": {
          "base_uri": "https://localhost:8080/"
        },
        "outputId": "14fa78d7-8784-4647-d481-6266946f1eeb"
      },
      "source": [
        "!sudo apt install hisat2 samtools fastqc rsem &> /dev/null\n",
        "!conda install -c bioconda stringtie gffcompare"
      ],
      "execution_count": 33,
      "outputs": [
        {
          "output_type": "stream",
          "name": "stdout",
          "text": [
            "^C\n",
            "\n",
            "CondaError: KeyboardInterrupt\n",
            "\n"
          ]
        }
      ]
    },
    {
      "cell_type": "code",
      "metadata": {
        "id": "uR0FNfhkyQ3H"
      },
      "source": [
        "%%shell\n",
        "wget ftp://ftp.ccb.jhu.edu/pub/RNAseq_protocol/chrX_data.tar.gz &> /dev/null\n",
        "tar xvzf chrX_data.tar.gz &> /dev/null"
      ],
      "execution_count": null,
      "outputs": []
    },
    {
      "cell_type": "markdown",
      "metadata": {
        "id": "rPaKALwtj7_M"
      },
      "source": [
        "~ 12 min run time \n",
        "Aling the RNA-seq reads to the reference genome"
      ]
    },
    {
      "cell_type": "markdown",
      "metadata": {
        "id": "EZnJYAsqtvhd"
      },
      "source": [
        "  In an experiment involving multiple RNA-seq data sets, reads are first mapped to the genome using HISAT (Steps 1 and 2). Annotation of reference genes and transcripts can be provided as input, but this is optional, as indicated by the dotted line. \n",
        "  \n",
        "The alignments are then passed to StringTie (Step 3), which assembles and quantifies the transcripts in each sample. (In the alternative protocol, the alignments from Step 2 are passed directly to Step 6, skipping all assembly steps. Step 6 will then estimate abundance only for known, annotated transcripts.) After initial assembly, the assembled transcripts\n",
        "are merged together (Step 4) by a special StringTie module, which creates\n",
        "a uniform set of transcripts for all samples. StringTie can use annotation in both of these steps, as shown by the dotted lines. The gffcompare program then compares the genes and transcripts with the annotation and reports statistics on this comparison (Step 5). In Step 6, StringTie processes\n",
        "the read alignments and either the merged transcripts or the reference annotation (through the diamond labeled ‘OR’). Using this input, StringTie re-estimates abundances where necessary and creates new transcript\n",
        "tables for input to Ballgown. Ballgown then compares all transcripts across conditions and produces tables and plots of differentially expressed genes and transcripts (Steps 7–21). Black and curved blue lines in the figure represent input to and output from the programs, respectively. Optional inputs are represented by dotted lines."
      ]
    },
    {
      "cell_type": "markdown",
      "metadata": {
        "id": "uuMEN1z5Yu13"
      },
      "source": [
        "This protocol begins with raw RNA-seq reads collected from all samples, and it produces several useful outputs, including lists of genes, transcripts and expression levels for each sample, tables showing differentially expressed genes between the two conditions and accompanying statistical measures of significance. First, reads from each sample are mapped to the reference genome with HISAT (Fig. 1). The user can provide a file of annotated gene positions as an option, and HISAT will use that file but it will also detect splice sites missing from the annotation."
      ]
    },
    {
      "cell_type": "code",
      "metadata": {
        "id": "RGvNStwX1YpH"
      },
      "source": [
        "%%shell\n",
        "hisat2 -p 8 --dta -x chrX_data/indexes/chrX_tran -1 chrX_data/samples/ERR188044_chrX_1.fastq.gz -2 chrX_data/samples/ERR188044_chrX_2.fastq.gz -S ERR188044_chrX.sam\n",
        "hisat2 -p 8 --dta -x chrX_data/indexes/chrX_tran -1 chrX_data/samples/ERR188104_chrX_1.fastq.gz -2 chrX_data/samples/ERR188104_chrX_2.fastq.gz -S ERR188104_chrX.sam\n",
        "hisat2 -p 8 --dta -x chrX_data/indexes/chrX_tran -1 chrX_data/samples/ERR188234_chrX_1.fastq.gz -2 chrX_data/samples/ERR188234_chrX_2.fastq.gz -S ERR188234_chrX.sam\n",
        "hisat2 -p 8 --dta -x chrX_data/indexes/chrX_tran -1 chrX_data/samples/ERR188245_chrX_1.fastq.gz -2 chrX_data/samples/ERR188245_chrX_2.fastq.gz -S ERR188245_chrX.sam\n",
        "hisat2 -p 8 --dta -x chrX_data/indexes/chrX_tran -1 chrX_data/samples/ERR188257_chrX_1.fastq.gz -2 chrX_data/samples/ERR188257_chrX_2.fastq.gz -S ERR188257_chrX.sam\n",
        "hisat2 -p 8 --dta -x chrX_data/indexes/chrX_tran -1 chrX_data/samples/ERR188273_chrX_1.fastq.gz -2 chrX_data/samples/ERR188273_chrX_2.fastq.gz -S ERR188273_chrX.sam\n",
        "hisat2 -p 8 --dta -x chrX_data/indexes/chrX_tran -1 chrX_data/samples/ERR188337_chrX_1.fastq.gz -2 chrX_data/samples/ERR188337_chrX_2.fastq.gz -S ERR188337_chrX.sam\n",
        "hisat2 -p 8 --dta -x chrX_data/indexes/chrX_tran -1 chrX_data/samples/ERR188383_chrX_1.fastq.gz -2 chrX_data/samples/ERR188383_chrX_2.fastq.gz -S ERR188383_chrX.sam\n",
        "hisat2 -p 8 --dta -x chrX_data/indexes/chrX_tran -1 chrX_data/samples/ERR188401_chrX_1.fastq.gz -2 chrX_data/samples/ERR188401_chrX_2.fastq.gz -S ERR188401_chrX.sam\n",
        "hisat2 -p 8 --dta -x chrX_data/indexes/chrX_tran -1 chrX_data/samples/ERR188428_chrX_1.fastq.gz -2 chrX_data/samples/ERR188428_chrX_2.fastq.gz -S ERR188428_chrX.sam\n",
        "hisat2 -p 8 --dta -x chrX_data/indexes/chrX_tran -1 chrX_data/samples/ERR188454_chrX_1.fastq.gz -2 chrX_data/samples/ERR188454_chrX_2.fastq.gz -S ERR188454_chrX.sam\n",
        "hisat2 -p 8 --dta -x chrX_data/indexes/chrX_tran -1 chrX_data/samples/ERR204916_chrX_1.fastq.gz -2 chrX_data/samples/ERR204916_chrX_2.fastq.gz -S ERR204916_chrX.sam"
      ],
      "execution_count": null,
      "outputs": []
    },
    {
      "cell_type": "code",
      "metadata": {
        "id": "XApIcmCw1Ym8"
      },
      "source": [
        "%%shell\n",
        "samtools sort -@ 8 -o ERR188044_chrX.bam ERR188044_chrX.sam\n",
        "samtools sort -@ 8 -o ERR188104_chrX.bam ERR188104_chrX.sam\n",
        "samtools sort -@ 8 -o ERR188234_chrX.bam ERR188234_chrX.sam\n",
        "samtools sort -@ 8 -o ERR188245_chrX.bam ERR188245_chrX.sam\n",
        "samtools sort -@ 8 -o ERR188257_chrX.bam ERR188257_chrX.sam\n",
        "samtools sort -@ 8 -o ERR188273_chrX.bam ERR188273_chrX.sam\n",
        "samtools sort -@ 8 -o ERR188337_chrX.bam ERR188337_chrX.sam\n",
        "samtools sort -@ 8 -o ERR188383_chrX.bam ERR188383_chrX.sam\n",
        "samtools sort -@ 8 -o ERR188401_chrX.bam ERR188401_chrX.sam\n",
        "samtools sort -@ 8 -o ERR188428_chrX.bam ERR188428_chrX.sam\n",
        "samtools sort -@ 8 -o ERR188454_chrX.bam ERR188454_chrX.sam\n",
        "samtools sort -@ 8 -o ERR204916_chrX.bam ERR204916_chrX.sam"
      ],
      "execution_count": null,
      "outputs": []
    },
    {
      "cell_type": "code",
      "metadata": {
        "id": "RJOTS-ry1Ydm"
      },
      "source": [
        "%%shell\n",
        "stringtie -p 8 -G chrX_data/genes/chrX.gtf -o ERR188044_chrX.gtf -l ERR188044 ERR188044_chrX.bam\n",
        "stringtie -p 8 -G chrX_data/genes/chrX.gtf -o ERR188104_chrX.gtf -l ERR188104 ERR188104_chrX.bam\n",
        "stringtie -p 8 -G chrX_data/genes/chrX.gtf -o ERR188234_chrX.gtf -l ERR188234 ERR188234_chrX.bam\n",
        "stringtie -p 8 -G chrX_data/genes/chrX.gtf -o ERR188245_chrX.gtf -l ERR188245 ERR188245_chrX.bam\n",
        "stringtie -p 8 -G chrX_data/genes/chrX.gtf -o ERR188257_chrX.gtf -l ERR188257 ERR188257_chrX.bam\n",
        "stringtie -p 8 -G chrX_data/genes/chrX.gtf -o ERR188273_chrX.gtf -l ERR188273 ERR188273_chrX.bam\n",
        "stringtie -p 8 -G chrX_data/genes/chrX.gtf -o ERR188337_chrX.gtf -l ERR188337 ERR188337_chrX.bam\n",
        "stringtie -p 8 -G chrX_data/genes/chrX.gtf -o ERR188383_chrX.gtf -l ERR188383 ERR188383_chrX.bam\n",
        "stringtie -p 8 -G chrX_data/genes/chrX.gtf -o ERR188401_chrX.gtf -l ERR188401 ERR188401_chrX.bam\n",
        "stringtie -p 8 -G chrX_data/genes/chrX.gtf -o ERR188428_chrX.gtf -l ERR188428 ERR188428_chrX.bam\n",
        "stringtie -p 8 -G chrX_data/genes/chrX.gtf -o ERR188454_chrX.gtf -l ERR188454 ERR188454_chrX.bam\n",
        "stringtie -p 8 -G chrX_data/genes/chrX.gtf -o ERR204916_chrX.gtf -l ERR204916 ERR204916_chrX.bam"
      ],
      "execution_count": null,
      "outputs": []
    },
    {
      "cell_type": "code",
      "metadata": {
        "id": "WzTknPp47-6z"
      },
      "source": [
        "!stringtie --merge -p 8 -G chrX_data/genes/chrX.gtf -o stringtie_merged.gtf chrX_data/mergelist.txt"
      ],
      "execution_count": null,
      "outputs": []
    },
    {
      "cell_type": "code",
      "metadata": {
        "id": "THWvfpAg1YbQ"
      },
      "source": [
        "%%shell\n",
        "stringtie -e -B -p 8 -G stringtie_merged.gtf -o ballgown/ERR188044/ERR188044_chrX.gtf ERR188044_chrX.bam\n",
        "stringtie -e -B -p 8 -G stringtie_merged.gtf -o ballgown/ERR188104/ERR188104_chrX.gtf ERR188104_chrX.bam\n",
        "stringtie -e -B -p 8 -G stringtie_merged.gtf -o ballgown/ERR188234/ERR188234_chrX.gtf ERR188234_chrX.bam\n",
        "stringtie -e -B -p 8 -G stringtie_merged.gtf -o ballgown/ERR188245/ERR188245_chrX.gtf ERR188245_chrX.bam\n",
        "stringtie -e -B -p 8 -G stringtie_merged.gtf -o ballgown/ERR188257/ERR188257_chrX.gtf ERR188257_chrX.bam\n",
        "stringtie -e -B -p 8 -G stringtie_merged.gtf -o ballgown/ERR188273/ERR188273_chrX.gtf ERR188273_chrX.bam\n",
        "stringtie -e -B -p 8 -G stringtie_merged.gtf -o ballgown/ERR188337/ERR188337_chrX.gtf ERR188337_chrX.bam\n",
        "stringtie -e -B -p 8 -G stringtie_merged.gtf -o ballgown/ERR188383/ERR188383_chrX.gtf ERR188383_chrX.bam\n",
        "stringtie -e -B -p 8 -G stringtie_merged.gtf -o ballgown/ERR188401/ERR188401_chrX.gtf ERR188401_chrX.bam\n",
        "stringtie -e -B -p 8 -G stringtie_merged.gtf -o ballgown/ERR188428/ERR188428_chrX.gtf ERR188428_chrX.bam\n",
        "stringtie -e -B -p 8 -G stringtie_merged.gtf -o ballgown/ERR188454/ERR188454_chrX.gtf ERR188454_chrX.bam\n",
        "stringtie -e -B -p 8 -G stringtie_merged.gtf -o ballgown/ERR204916/ERR204916_chrX.gtf ERR204916_chrX.bam\n"
      ],
      "execution_count": null,
      "outputs": []
    },
    {
      "cell_type": "markdown",
      "metadata": {
        "id": "lB-douHikB58"
      },
      "source": [
        "#R analysis part"
      ]
    },
    {
      "cell_type": "code",
      "metadata": {
        "id": "w4YrNsxqoyiP"
      },
      "source": [
        "%%R\n",
        "if (!requireNamespace(\"BiocManager\", quietly = TRUE))\n",
        "    install.packages(\"BiocManager\")\n",
        "\n",
        "BiocManager::install(c((\"genefilter\"),(\"ballgown\")))"
      ],
      "execution_count": null,
      "outputs": []
    },
    {
      "cell_type": "code",
      "metadata": {
        "id": "bf-7A3Iel02P"
      },
      "source": [
        "%R devtools::install_github('alyssafrazee/RSkittleBrewer')"
      ],
      "execution_count": null,
      "outputs": []
    },
    {
      "cell_type": "code",
      "metadata": {
        "id": "zKJ-Cd0OkGZQ"
      },
      "source": [
        "%%R\n",
        "library(dplyr)\n",
        "library(devtools)\n",
        "library(RSkittleBrewer)\n",
        "library(ballgown)\n",
        "library(genefilter)"
      ],
      "execution_count": null,
      "outputs": []
    },
    {
      "cell_type": "code",
      "metadata": {
        "id": "WS_F-9CfkGUt"
      },
      "source": [
        "%%R\n",
        "pheno_data = read.csv(\"/content/chrX_data/geuvadis_phenodata.csv\")"
      ],
      "execution_count": 14,
      "outputs": []
    },
    {
      "cell_type": "code",
      "metadata": {
        "id": "Kg_jGAVmkGSH"
      },
      "source": [
        "%%R\n",
        "bg_chrX = ballgown(dataDir = \"ballgown\", samplePattern = \"ERR\", pData=pheno_data)\n",
        "bg_chrX_filt = subset(bg_chrX,\"rowVars(texpr(bg_chrX)) >1\",genomesubset=TRUE)\n",
        "results_transcripts = stattest(bg_chrX_filt, feature=\"transcript\",covariate=\"sex\",adjustvars = c(\"population\"), getFC=TRUE, meas=\"FPKM\")\n",
        "results_genes = stattest(bg_chrX_filt, feature=\"gene\", covariate=\"sex\", adjustvars = c(\"population\"), getFC=TRUE, meas=\"FPKM\")\n",
        "results_transcripts = data.frame(geneNames=ballgown::geneNames(bg_chrX_filt), geneIDs=ballgown::geneIDs(bg_chrX_filt), results_transcripts)\n",
        "results_transcripts = arrange(results_transcripts,pval)\n",
        "results_genes = arrange(results_genes,pval)"
      ],
      "execution_count": null,
      "outputs": []
    },
    {
      "cell_type": "code",
      "metadata": {
        "id": "nRnThOq7kGPh",
        "colab": {
          "base_uri": "https://localhost:8080/"
        },
        "outputId": "e60cc35e-b3bb-4302-c710-7897cb38732f"
      },
      "source": [
        "%%R\n",
        "subset(results_transcripts,results_transcripts$qval<0.05)\n",
        "subset(results_genes,results_genes$qval<0.05)"
      ],
      "execution_count": 18,
      "outputs": [
        {
          "output_type": "stream",
          "name": "stdout",
          "text": [
            "  feature        id          fc         pval         qval\n",
            "1    gene MSTRG.518 0.002837501 6.771532e-10 6.121465e-07\n",
            "2    gene MSTRG.517 0.057335020 4.858256e-07 2.195932e-04\n",
            "3    gene MSTRG.373 0.569867012 4.611162e-06 1.389497e-03\n",
            "4    gene MSTRG.137 3.109255753 1.871016e-05 3.964006e-03\n",
            "5    gene MSTRG.718 0.246222692 2.192481e-05 3.964006e-03\n",
            "6    gene  MSTRG.55 0.600461675 5.538353e-05 8.344452e-03\n",
            "7    gene MSTRG.713 0.333663973 7.336781e-05 9.474929e-03\n",
            "8    gene MSTRG.503 0.621368951 1.381850e-04 1.561491e-02\n"
          ]
        }
      ]
    },
    {
      "cell_type": "code",
      "metadata": {
        "id": "yk4kqBTW5vwY"
      },
      "source": [
        "%%R\n",
        "tropical= c('darkorange', 'dodgerblue', 'hotpink', 'limegreen', 'yellow')\n",
        "palette(tropical)"
      ],
      "execution_count": 19,
      "outputs": []
    },
    {
      "cell_type": "code",
      "metadata": {
        "id": "2Q6z9XfBkGNK",
        "colab": {
          "base_uri": "https://localhost:8080/",
          "height": 497
        },
        "outputId": "715e8cfb-bfe5-4142-c81b-3fe7d4054da9"
      },
      "source": [
        "%%R\n",
        "fpkm = texpr(bg_chrX,meas=\"FPKM\")\n",
        "fpkm = log2(fpkm+1)\n",
        "boxplot(fpkm,col=as.numeric(pheno_data$sex),las=2,ylab='log2(FPKM+1)')"
      ],
      "execution_count": 20,
      "outputs": [
        {
          "output_type": "display_data",
          "data": {
            "image/png": "[encoded data removed]"
          },
          "metadata": {}
        }
      ]
    },
    {
      "cell_type": "code",
      "metadata": {
        "id": "hhOa4roekGKz"
      },
      "source": [
        "%%R\n",
        "plot(fpkm[12,] ~ pheno_data$sex, border=c(1,2), main=paste(ballgown::geneNames(bg_chrX)[12],' : ', ballgown::transcriptNames(bg_chrX)[12]),pch=19, xlab=\"Sex\", ylab='log2(FPKM+1)')"
      ],
      "execution_count": null,
      "outputs": []
    },
    {
      "cell_type": "code",
      "metadata": {
        "id": "Nbtr6bgRkGIV"
      },
      "source": [
        "%%R \n",
        "plotTranscripts(ballgown::geneIDs(bg_ chrX)[1729], bg_chrX, main=c('Gene XIST in sample ERR188234'), sample=c('ERR188234'))"
      ],
      "execution_count": null,
      "outputs": []
    },
    {
      "cell_type": "code",
      "metadata": {
        "id": "YxtuAm2RkGBV"
      },
      "source": [
        "import pandas as pd\n",
        "import numpy as np \n",
        "import matplotlib.pyplot as plt\n"
      ],
      "execution_count": 27,
      "outputs": []
    },
    {
      "cell_type": "code",
      "metadata": {
        "id": "AeP-xGLm5vtz"
      },
      "source": [
        "pheno_df = pd.read_csv(\"/content/chrX_data/geuvadis_phenodata.csv\")"
      ],
      "execution_count": 28,
      "outputs": []
    },
    {
      "cell_type": "code",
      "metadata": {
        "colab": {
          "base_uri": "https://localhost:8080/",
          "height": 204
        },
        "id": "JulMTHLR5vqr",
        "outputId": "67a55f43-07a8-441a-cb9f-9966b451d3db"
      },
      "source": [
        "pheno_df.head()"
      ],
      "execution_count": 30,
      "outputs": [
        {
          "output_type": "execute_result",
          "data": {
            "text/html": [
              "<div>\n",
              "<style scoped>\n",
              "    .dataframe tbody tr th:only-of-type {\n",
              "        vertical-align: middle;\n",
              "    }\n",
              "\n",
              "    .dataframe tbody tr th {\n",
              "        vertical-align: top;\n",
              "    }\n",
              "\n",
              "    .dataframe thead th {\n",
              "        text-align: right;\n",
              "    }\n",
              "</style>\n",
              "<table border=\"1\" class=\"dataframe\">\n",
              "  <thead>\n",
              "    <tr style=\"text-align: right;\">\n",
              "      <th></th>\n",
              "      <th>ids</th>\n",
              "      <th>sex</th>\n",
              "      <th>population</th>\n",
              "    </tr>\n",
              "  </thead>\n",
              "  <tbody>\n",
              "    <tr>\n",
              "      <th>0</th>\n",
              "      <td>ERR188044</td>\n",
              "      <td>male</td>\n",
              "      <td>YRI</td>\n",
              "    </tr>\n",
              "    <tr>\n",
              "      <th>1</th>\n",
              "      <td>ERR188104</td>\n",
              "      <td>male</td>\n",
              "      <td>YRI</td>\n",
              "    </tr>\n",
              "    <tr>\n",
              "      <th>2</th>\n",
              "      <td>ERR188234</td>\n",
              "      <td>female</td>\n",
              "      <td>YRI</td>\n",
              "    </tr>\n",
              "    <tr>\n",
              "      <th>3</th>\n",
              "      <td>ERR188245</td>\n",
              "      <td>female</td>\n",
              "      <td>GBR</td>\n",
              "    </tr>\n",
              "    <tr>\n",
              "      <th>4</th>\n",
              "      <td>ERR188257</td>\n",
              "      <td>male</td>\n",
              "      <td>GBR</td>\n",
              "    </tr>\n",
              "  </tbody>\n",
              "</table>\n",
              "</div>"
            ],
            "text/plain": [
              "         ids     sex population\n",
              "0  ERR188044    male        YRI\n",
              "1  ERR188104    male        YRI\n",
              "2  ERR188234  female        YRI\n",
              "3  ERR188245  female        GBR\n",
              "4  ERR188257    male        GBR"
            ]
          },
          "metadata": {},
          "execution_count": 30
        }
      ]
    },
    {
      "cell_type": "code",
      "metadata": {
        "id": "GQ-bOwYH5vnN"
      },
      "source": [
        ""
      ],
      "execution_count": null,
      "outputs": []
    },
    {
      "cell_type": "code",
      "metadata": {
        "id": "wThmHOrB5vcK"
      },
      "source": [
        ""
      ],
      "execution_count": null,
      "outputs": []
    },
    {
      "cell_type": "code",
      "metadata": {
        "id": "wARL5mGHV0Va"
      },
      "source": [
        ""
      ],
      "execution_count": null,
      "outputs": []
    },
    {
      "cell_type": "code",
      "metadata": {
        "id": "LacZuxdt1Yf2"
      },
      "source": [
        ""
      ],
      "execution_count": null,
      "outputs": []
    }
  ]
}
