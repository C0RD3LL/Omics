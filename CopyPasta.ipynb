{
  "nbformat": 4,
  "nbformat_minor": 0,
  "metadata": {
    "colab": {
      "name": "CopyPasta.ipynb",
      "provenance": [],
      "collapsed_sections": [],
      "mount_file_id": "1Pqqyb2miA79vDPsJ5Yz_OGpO2AC6eATR",
      "authorship_tag": "ABX9TyOzozaAh/+TE0wgx1f4qvRQ",
      "include_colab_link": true
    },
    "kernelspec": {
      "name": "python3",
      "display_name": "Python 3"
    },
    "language_info": {
      "name": "python"
    }
  },
  "cells": [
    {
      "cell_type": "markdown",
      "metadata": {
        "id": "view-in-github",
        "colab_type": "text"
      },
      "source": [
        "<a href=\"https://colab.research.google.com/github/C0RD3LL/Omics/blob/main/CopyPasta.ipynb\" target=\"_parent\"><img src=\"https://colab.research.google.com/assets/colab-badge.svg\" alt=\"Open In Colab\"/></a>"
      ]
    },
    {
      "cell_type": "markdown",
      "metadata": {
        "id": "2rg3L5yOLCre"
      },
      "source": [
        "#Analysis of single cell RNA-Seq data \n",
        "\n",
        "\n",
        "\n"
      ]
    },
    {
      "cell_type": "code",
      "metadata": {
        "id": "A4thk9XzWzLL"
      },
      "source": [
        "# --quiet / -q silences output \n",
        "pip install -q scanpy"
      ],
      "execution_count": null,
      "outputs": []
    },
    {
      "cell_type": "code",
      "metadata": {
        "id": "4L_ALlzMQqcR"
      },
      "source": [
        "import pandas as pd\n",
        "import matplotlib.pyplot as plt \n",
        "import scanpy as sc\n",
        "import seaborn as sns\n",
        "\n",
        "from urllib.request import urlopen\n",
        "from io import BytesIO\n",
        "from zipfile import ZipFile\n",
        "\n",
        "%matplotlib inline"
      ],
      "execution_count": null,
      "outputs": []
    },
    {
      "cell_type": "markdown",
      "metadata": {
        "id": "hQB2vvNIQHGr"
      },
      "source": [
        "This journal goes over basic eda of single-cell RNASeq data start to finish. The example provided is from the Tabula Muris."
      ]
    },
    {
      "cell_type": "code",
      "metadata": {
        "id": "NKsi5nPZQGxv"
      },
      "source": [
        "def download_and_unzip(url, extract_to='.'):\n",
        "    http_response = urlopen(url)\n",
        "    zipfile = ZipFile(BytesIO(http_response.read()))\n",
        "    zipfile.extractall(path=extract_to)\n",
        "\n",
        "download_and_unzip(\"https://github.com/chanzuckerberg/scRNA-python-workshop/raw/master/content/data.zip\")"
      ],
      "execution_count": null,
      "outputs": []
    },
    {
      "cell_type": "code",
      "metadata": {
        "colab": {
          "base_uri": "https://localhost:8080/",
          "height": 270
        },
        "id": "6bzx4nyHQEPV",
        "outputId": "ca3c33e4-011a-4310-9bbb-098624039bcc"
      },
      "source": [
        "brain_counts_df = pd.read_csv(\"/content/brain_counts.csv\",index_col= 0 )\n",
        "display(brain_counts_df.head())\n",
        "print(\"DF shape: \", brain_counts_df.shape)"
      ],
      "execution_count": null,
      "outputs": [
        {
          "output_type": "display_data",
          "data": {
            "text/html": [
              "<div>\n",
              "<style scoped>\n",
              "    .dataframe tbody tr th:only-of-type {\n",
              "        vertical-align: middle;\n",
              "    }\n",
              "\n",
              "    .dataframe tbody tr th {\n",
              "        vertical-align: top;\n",
              "    }\n",
              "\n",
              "    .dataframe thead th {\n",
              "        text-align: right;\n",
              "    }\n",
              "</style>\n",
              "<table border=\"1\" class=\"dataframe\">\n",
              "  <thead>\n",
              "    <tr style=\"text-align: right;\">\n",
              "      <th></th>\n",
              "      <th>0610005C13Rik</th>\n",
              "      <th>0610007C21Rik</th>\n",
              "      <th>0610007L01Rik</th>\n",
              "      <th>0610007N19Rik</th>\n",
              "      <th>0610007P08Rik</th>\n",
              "      <th>0610007P14Rik</th>\n",
              "      <th>0610007P22Rik</th>\n",
              "      <th>0610008F07Rik</th>\n",
              "      <th>0610009B14Rik</th>\n",
              "      <th>0610009B22Rik</th>\n",
              "      <th>0610009D07Rik</th>\n",
              "      <th>0610009L18Rik</th>\n",
              "      <th>0610009O20Rik</th>\n",
              "      <th>0610010B08Rik</th>\n",
              "      <th>0610010F05Rik</th>\n",
              "      <th>0610010K14Rik</th>\n",
              "      <th>0610010O12Rik</th>\n",
              "      <th>0610011F06Rik</th>\n",
              "      <th>0610011L14Rik</th>\n",
              "      <th>0610012G03Rik</th>\n",
              "      <th>0610012H03Rik</th>\n",
              "      <th>0610030E20Rik</th>\n",
              "      <th>0610031J06Rik</th>\n",
              "      <th>0610031O16Rik</th>\n",
              "      <th>0610037L13Rik</th>\n",
              "      <th>0610037P05Rik</th>\n",
              "      <th>0610038B21Rik</th>\n",
              "      <th>0610038L08Rik</th>\n",
              "      <th>0610039K10Rik</th>\n",
              "      <th>0610040B10Rik</th>\n",
              "      <th>0610040F04Rik</th>\n",
              "      <th>0610040J01Rik</th>\n",
              "      <th>0610043K17Rik</th>\n",
              "      <th>0910001L09Rik</th>\n",
              "      <th>100043387</th>\n",
              "      <th>1100001G20Rik</th>\n",
              "      <th>1110001A16Rik</th>\n",
              "      <th>1110001J03Rik</th>\n",
              "      <th>1110002B05Rik</th>\n",
              "      <th>1110002L01Rik</th>\n",
              "      <th>...</th>\n",
              "      <th>Zranb3</th>\n",
              "      <th>Zrsr1</th>\n",
              "      <th>Zrsr2</th>\n",
              "      <th>Zscan10</th>\n",
              "      <th>Zscan12</th>\n",
              "      <th>Zscan18</th>\n",
              "      <th>Zscan2</th>\n",
              "      <th>Zscan20</th>\n",
              "      <th>Zscan21</th>\n",
              "      <th>Zscan22</th>\n",
              "      <th>Zscan29</th>\n",
              "      <th>Zscan4a</th>\n",
              "      <th>Zscan4b</th>\n",
              "      <th>Zscan4c</th>\n",
              "      <th>Zscan4d</th>\n",
              "      <th>Zscan4e</th>\n",
              "      <th>Zscan4f</th>\n",
              "      <th>Zscan5b</th>\n",
              "      <th>Zswim1</th>\n",
              "      <th>Zswim2</th>\n",
              "      <th>Zswim3</th>\n",
              "      <th>Zswim4</th>\n",
              "      <th>Zswim5</th>\n",
              "      <th>Zswim6</th>\n",
              "      <th>Zswim7</th>\n",
              "      <th>Zufsp</th>\n",
              "      <th>Zw10</th>\n",
              "      <th>Zwilch</th>\n",
              "      <th>Zwint</th>\n",
              "      <th>Zxda</th>\n",
              "      <th>Zxdb</th>\n",
              "      <th>Zxdc</th>\n",
              "      <th>Zyg11a</th>\n",
              "      <th>Zyg11b</th>\n",
              "      <th>Zyx</th>\n",
              "      <th>Zzef1</th>\n",
              "      <th>Zzz3</th>\n",
              "      <th>a</th>\n",
              "      <th>l7Rn6</th>\n",
              "      <th>zsGreen_transgene</th>\n",
              "    </tr>\n",
              "  </thead>\n",
              "  <tbody>\n",
              "    <tr>\n",
              "      <th>A1.B003290.3_38_F.1.1</th>\n",
              "      <td>0</td>\n",
              "      <td>125</td>\n",
              "      <td>16</td>\n",
              "      <td>0</td>\n",
              "      <td>0</td>\n",
              "      <td>0</td>\n",
              "      <td>0</td>\n",
              "      <td>0</td>\n",
              "      <td>0</td>\n",
              "      <td>0</td>\n",
              "      <td>0</td>\n",
              "      <td>0</td>\n",
              "      <td>8</td>\n",
              "      <td>0</td>\n",
              "      <td>0</td>\n",
              "      <td>66</td>\n",
              "      <td>140</td>\n",
              "      <td>218</td>\n",
              "      <td>0</td>\n",
              "      <td>110</td>\n",
              "      <td>0</td>\n",
              "      <td>0</td>\n",
              "      <td>155</td>\n",
              "      <td>0</td>\n",
              "      <td>0</td>\n",
              "      <td>37</td>\n",
              "      <td>0</td>\n",
              "      <td>0</td>\n",
              "      <td>0</td>\n",
              "      <td>0</td>\n",
              "      <td>0</td>\n",
              "      <td>0</td>\n",
              "      <td>0</td>\n",
              "      <td>0</td>\n",
              "      <td>0</td>\n",
              "      <td>0</td>\n",
              "      <td>0</td>\n",
              "      <td>30</td>\n",
              "      <td>107</td>\n",
              "      <td>0</td>\n",
              "      <td>...</td>\n",
              "      <td>0</td>\n",
              "      <td>0</td>\n",
              "      <td>0</td>\n",
              "      <td>0</td>\n",
              "      <td>35</td>\n",
              "      <td>0</td>\n",
              "      <td>0</td>\n",
              "      <td>0</td>\n",
              "      <td>0</td>\n",
              "      <td>9</td>\n",
              "      <td>0</td>\n",
              "      <td>0</td>\n",
              "      <td>0</td>\n",
              "      <td>0</td>\n",
              "      <td>0</td>\n",
              "      <td>0</td>\n",
              "      <td>0</td>\n",
              "      <td>0</td>\n",
              "      <td>3</td>\n",
              "      <td>0</td>\n",
              "      <td>0</td>\n",
              "      <td>0</td>\n",
              "      <td>0</td>\n",
              "      <td>0</td>\n",
              "      <td>0</td>\n",
              "      <td>0</td>\n",
              "      <td>0</td>\n",
              "      <td>0</td>\n",
              "      <td>0</td>\n",
              "      <td>0</td>\n",
              "      <td>0</td>\n",
              "      <td>0</td>\n",
              "      <td>0</td>\n",
              "      <td>0</td>\n",
              "      <td>0</td>\n",
              "      <td>0</td>\n",
              "      <td>0</td>\n",
              "      <td>0</td>\n",
              "      <td>54</td>\n",
              "      <td>0</td>\n",
              "    </tr>\n",
              "    <tr>\n",
              "      <th>A1.B003728.3_56_F.1.1</th>\n",
              "      <td>0</td>\n",
              "      <td>0</td>\n",
              "      <td>0</td>\n",
              "      <td>0</td>\n",
              "      <td>0</td>\n",
              "      <td>324</td>\n",
              "      <td>0</td>\n",
              "      <td>0</td>\n",
              "      <td>0</td>\n",
              "      <td>0</td>\n",
              "      <td>0</td>\n",
              "      <td>0</td>\n",
              "      <td>0</td>\n",
              "      <td>0</td>\n",
              "      <td>0</td>\n",
              "      <td>0</td>\n",
              "      <td>0</td>\n",
              "      <td>0</td>\n",
              "      <td>0</td>\n",
              "      <td>0</td>\n",
              "      <td>0</td>\n",
              "      <td>0</td>\n",
              "      <td>722</td>\n",
              "      <td>0</td>\n",
              "      <td>0</td>\n",
              "      <td>0</td>\n",
              "      <td>0</td>\n",
              "      <td>0</td>\n",
              "      <td>0</td>\n",
              "      <td>0</td>\n",
              "      <td>0</td>\n",
              "      <td>0</td>\n",
              "      <td>0</td>\n",
              "      <td>128</td>\n",
              "      <td>1</td>\n",
              "      <td>0</td>\n",
              "      <td>0</td>\n",
              "      <td>0</td>\n",
              "      <td>0</td>\n",
              "      <td>0</td>\n",
              "      <td>...</td>\n",
              "      <td>0</td>\n",
              "      <td>0</td>\n",
              "      <td>0</td>\n",
              "      <td>0</td>\n",
              "      <td>822</td>\n",
              "      <td>0</td>\n",
              "      <td>0</td>\n",
              "      <td>0</td>\n",
              "      <td>0</td>\n",
              "      <td>0</td>\n",
              "      <td>0</td>\n",
              "      <td>0</td>\n",
              "      <td>0</td>\n",
              "      <td>0</td>\n",
              "      <td>0</td>\n",
              "      <td>0</td>\n",
              "      <td>0</td>\n",
              "      <td>0</td>\n",
              "      <td>0</td>\n",
              "      <td>0</td>\n",
              "      <td>0</td>\n",
              "      <td>0</td>\n",
              "      <td>0</td>\n",
              "      <td>0</td>\n",
              "      <td>0</td>\n",
              "      <td>0</td>\n",
              "      <td>0</td>\n",
              "      <td>0</td>\n",
              "      <td>0</td>\n",
              "      <td>0</td>\n",
              "      <td>0</td>\n",
              "      <td>0</td>\n",
              "      <td>0</td>\n",
              "      <td>0</td>\n",
              "      <td>0</td>\n",
              "      <td>0</td>\n",
              "      <td>0</td>\n",
              "      <td>0</td>\n",
              "      <td>0</td>\n",
              "      <td>0</td>\n",
              "    </tr>\n",
              "    <tr>\n",
              "      <th>A1.MAA000560.3_10_M.1.1</th>\n",
              "      <td>0</td>\n",
              "      <td>348</td>\n",
              "      <td>0</td>\n",
              "      <td>0</td>\n",
              "      <td>0</td>\n",
              "      <td>5</td>\n",
              "      <td>0</td>\n",
              "      <td>0</td>\n",
              "      <td>0</td>\n",
              "      <td>0</td>\n",
              "      <td>316</td>\n",
              "      <td>0</td>\n",
              "      <td>0</td>\n",
              "      <td>0</td>\n",
              "      <td>0</td>\n",
              "      <td>1</td>\n",
              "      <td>371</td>\n",
              "      <td>333</td>\n",
              "      <td>0</td>\n",
              "      <td>0</td>\n",
              "      <td>0</td>\n",
              "      <td>0</td>\n",
              "      <td>439</td>\n",
              "      <td>0</td>\n",
              "      <td>0</td>\n",
              "      <td>49</td>\n",
              "      <td>0</td>\n",
              "      <td>0</td>\n",
              "      <td>0</td>\n",
              "      <td>0</td>\n",
              "      <td>0</td>\n",
              "      <td>0</td>\n",
              "      <td>44</td>\n",
              "      <td>67</td>\n",
              "      <td>0</td>\n",
              "      <td>0</td>\n",
              "      <td>0</td>\n",
              "      <td>46</td>\n",
              "      <td>587</td>\n",
              "      <td>0</td>\n",
              "      <td>...</td>\n",
              "      <td>0</td>\n",
              "      <td>6</td>\n",
              "      <td>0</td>\n",
              "      <td>0</td>\n",
              "      <td>0</td>\n",
              "      <td>2</td>\n",
              "      <td>0</td>\n",
              "      <td>0</td>\n",
              "      <td>0</td>\n",
              "      <td>0</td>\n",
              "      <td>0</td>\n",
              "      <td>0</td>\n",
              "      <td>0</td>\n",
              "      <td>0</td>\n",
              "      <td>0</td>\n",
              "      <td>0</td>\n",
              "      <td>0</td>\n",
              "      <td>0</td>\n",
              "      <td>0</td>\n",
              "      <td>0</td>\n",
              "      <td>0</td>\n",
              "      <td>0</td>\n",
              "      <td>0</td>\n",
              "      <td>0</td>\n",
              "      <td>0</td>\n",
              "      <td>0</td>\n",
              "      <td>0</td>\n",
              "      <td>0</td>\n",
              "      <td>266</td>\n",
              "      <td>0</td>\n",
              "      <td>0</td>\n",
              "      <td>0</td>\n",
              "      <td>0</td>\n",
              "      <td>0</td>\n",
              "      <td>0</td>\n",
              "      <td>195</td>\n",
              "      <td>0</td>\n",
              "      <td>0</td>\n",
              "      <td>113</td>\n",
              "      <td>0</td>\n",
              "    </tr>\n",
              "    <tr>\n",
              "      <th>A1.MAA000564.3_10_M.1.1</th>\n",
              "      <td>0</td>\n",
              "      <td>41</td>\n",
              "      <td>36</td>\n",
              "      <td>0</td>\n",
              "      <td>0</td>\n",
              "      <td>24</td>\n",
              "      <td>0</td>\n",
              "      <td>0</td>\n",
              "      <td>0</td>\n",
              "      <td>14</td>\n",
              "      <td>0</td>\n",
              "      <td>0</td>\n",
              "      <td>3</td>\n",
              "      <td>0</td>\n",
              "      <td>0</td>\n",
              "      <td>6</td>\n",
              "      <td>11</td>\n",
              "      <td>0</td>\n",
              "      <td>0</td>\n",
              "      <td>0</td>\n",
              "      <td>0</td>\n",
              "      <td>0</td>\n",
              "      <td>3</td>\n",
              "      <td>0</td>\n",
              "      <td>0</td>\n",
              "      <td>0</td>\n",
              "      <td>0</td>\n",
              "      <td>0</td>\n",
              "      <td>0</td>\n",
              "      <td>0</td>\n",
              "      <td>0</td>\n",
              "      <td>0</td>\n",
              "      <td>0</td>\n",
              "      <td>3</td>\n",
              "      <td>0</td>\n",
              "      <td>0</td>\n",
              "      <td>8</td>\n",
              "      <td>1</td>\n",
              "      <td>62</td>\n",
              "      <td>0</td>\n",
              "      <td>...</td>\n",
              "      <td>0</td>\n",
              "      <td>0</td>\n",
              "      <td>8</td>\n",
              "      <td>0</td>\n",
              "      <td>0</td>\n",
              "      <td>0</td>\n",
              "      <td>0</td>\n",
              "      <td>0</td>\n",
              "      <td>1</td>\n",
              "      <td>0</td>\n",
              "      <td>0</td>\n",
              "      <td>0</td>\n",
              "      <td>0</td>\n",
              "      <td>0</td>\n",
              "      <td>0</td>\n",
              "      <td>0</td>\n",
              "      <td>0</td>\n",
              "      <td>0</td>\n",
              "      <td>0</td>\n",
              "      <td>0</td>\n",
              "      <td>0</td>\n",
              "      <td>29</td>\n",
              "      <td>0</td>\n",
              "      <td>0</td>\n",
              "      <td>16</td>\n",
              "      <td>0</td>\n",
              "      <td>2</td>\n",
              "      <td>0</td>\n",
              "      <td>0</td>\n",
              "      <td>0</td>\n",
              "      <td>0</td>\n",
              "      <td>0</td>\n",
              "      <td>0</td>\n",
              "      <td>0</td>\n",
              "      <td>125</td>\n",
              "      <td>0</td>\n",
              "      <td>1</td>\n",
              "      <td>0</td>\n",
              "      <td>0</td>\n",
              "      <td>0</td>\n",
              "    </tr>\n",
              "    <tr>\n",
              "      <th>A1.MAA000923.3_9_M.1.1</th>\n",
              "      <td>0</td>\n",
              "      <td>53</td>\n",
              "      <td>0</td>\n",
              "      <td>0</td>\n",
              "      <td>0</td>\n",
              "      <td>0</td>\n",
              "      <td>0</td>\n",
              "      <td>0</td>\n",
              "      <td>0</td>\n",
              "      <td>0</td>\n",
              "      <td>0</td>\n",
              "      <td>0</td>\n",
              "      <td>3</td>\n",
              "      <td>0</td>\n",
              "      <td>0</td>\n",
              "      <td>19</td>\n",
              "      <td>118</td>\n",
              "      <td>39</td>\n",
              "      <td>0</td>\n",
              "      <td>175</td>\n",
              "      <td>0</td>\n",
              "      <td>0</td>\n",
              "      <td>20</td>\n",
              "      <td>0</td>\n",
              "      <td>0</td>\n",
              "      <td>124</td>\n",
              "      <td>0</td>\n",
              "      <td>0</td>\n",
              "      <td>0</td>\n",
              "      <td>0</td>\n",
              "      <td>0</td>\n",
              "      <td>0</td>\n",
              "      <td>0</td>\n",
              "      <td>0</td>\n",
              "      <td>0</td>\n",
              "      <td>0</td>\n",
              "      <td>0</td>\n",
              "      <td>1</td>\n",
              "      <td>0</td>\n",
              "      <td>0</td>\n",
              "      <td>...</td>\n",
              "      <td>0</td>\n",
              "      <td>0</td>\n",
              "      <td>0</td>\n",
              "      <td>0</td>\n",
              "      <td>0</td>\n",
              "      <td>0</td>\n",
              "      <td>0</td>\n",
              "      <td>0</td>\n",
              "      <td>15</td>\n",
              "      <td>0</td>\n",
              "      <td>0</td>\n",
              "      <td>0</td>\n",
              "      <td>0</td>\n",
              "      <td>0</td>\n",
              "      <td>0</td>\n",
              "      <td>0</td>\n",
              "      <td>0</td>\n",
              "      <td>0</td>\n",
              "      <td>0</td>\n",
              "      <td>0</td>\n",
              "      <td>0</td>\n",
              "      <td>0</td>\n",
              "      <td>0</td>\n",
              "      <td>0</td>\n",
              "      <td>0</td>\n",
              "      <td>0</td>\n",
              "      <td>0</td>\n",
              "      <td>0</td>\n",
              "      <td>0</td>\n",
              "      <td>0</td>\n",
              "      <td>0</td>\n",
              "      <td>0</td>\n",
              "      <td>0</td>\n",
              "      <td>81</td>\n",
              "      <td>0</td>\n",
              "      <td>0</td>\n",
              "      <td>0</td>\n",
              "      <td>0</td>\n",
              "      <td>0</td>\n",
              "      <td>0</td>\n",
              "    </tr>\n",
              "  </tbody>\n",
              "</table>\n",
              "<p>5 rows × 23433 columns</p>\n",
              "</div>"
            ],
            "text/plain": [
              "                         0610005C13Rik  0610007C21Rik  ...  l7Rn6  zsGreen_transgene\n",
              "A1.B003290.3_38_F.1.1                0            125  ...     54                  0\n",
              "A1.B003728.3_56_F.1.1                0              0  ...      0                  0\n",
              "A1.MAA000560.3_10_M.1.1              0            348  ...    113                  0\n",
              "A1.MAA000564.3_10_M.1.1              0             41  ...      0                  0\n",
              "A1.MAA000923.3_9_M.1.1               0             53  ...      0                  0\n",
              "\n",
              "[5 rows x 23433 columns]"
            ]
          },
          "metadata": {}
        },
        {
          "output_type": "stream",
          "name": "stdout",
          "text": [
            "DF shape:  (3401, 23433)\n"
          ]
        }
      ]
    },
    {
      "cell_type": "markdown",
      "metadata": {
        "id": "5MnnXWfmTzXw"
      },
      "source": [
        "The column names shown represent genes. While the rows represent unique cell indentifiers that were created by the dataset author. \n",
        "\n",
        "To further get a better understand of the data we can read the metadata provided by the author."
      ]
    },
    {
      "cell_type": "code",
      "metadata": {
        "colab": {
          "base_uri": "https://localhost:8080/",
          "height": 252
        },
        "id": "I1OLbwRiQERj",
        "outputId": "12dc8f8a-f02c-4b46-e3db-173365044667"
      },
      "source": [
        "brain_metadata = pd.read_csv(\"/content/brain_metadata.csv\",index_col= 0)\n",
        "display(brain_metadata.head())\n",
        "print(\"DF shape: \", brain_metadata.shape)"
      ],
      "execution_count": null,
      "outputs": [
        {
          "output_type": "display_data",
          "data": {
            "text/html": [
              "<div>\n",
              "<style scoped>\n",
              "    .dataframe tbody tr th:only-of-type {\n",
              "        vertical-align: middle;\n",
              "    }\n",
              "\n",
              "    .dataframe tbody tr th {\n",
              "        vertical-align: top;\n",
              "    }\n",
              "\n",
              "    .dataframe thead th {\n",
              "        text-align: right;\n",
              "    }\n",
              "</style>\n",
              "<table border=\"1\" class=\"dataframe\">\n",
              "  <thead>\n",
              "    <tr style=\"text-align: right;\">\n",
              "      <th></th>\n",
              "      <th>cell_ontology_class</th>\n",
              "      <th>subtissue</th>\n",
              "      <th>mouse.sex</th>\n",
              "      <th>mouse.id</th>\n",
              "      <th>plate.barcode</th>\n",
              "    </tr>\n",
              "    <tr>\n",
              "      <th>cell</th>\n",
              "      <th></th>\n",
              "      <th></th>\n",
              "      <th></th>\n",
              "      <th></th>\n",
              "      <th></th>\n",
              "    </tr>\n",
              "  </thead>\n",
              "  <tbody>\n",
              "    <tr>\n",
              "      <th>A1.B003290.3_38_F.1.1</th>\n",
              "      <td>astrocyte</td>\n",
              "      <td>Striatum</td>\n",
              "      <td>F</td>\n",
              "      <td>3_38_F</td>\n",
              "      <td>B003290</td>\n",
              "    </tr>\n",
              "    <tr>\n",
              "      <th>A1.B003728.3_56_F.1.1</th>\n",
              "      <td>astrocyte</td>\n",
              "      <td>Striatum</td>\n",
              "      <td>F</td>\n",
              "      <td>3_56_F</td>\n",
              "      <td>B003728</td>\n",
              "    </tr>\n",
              "    <tr>\n",
              "      <th>A1.MAA000560.3_10_M.1.1</th>\n",
              "      <td>oligodendrocyte</td>\n",
              "      <td>Cortex</td>\n",
              "      <td>M</td>\n",
              "      <td>3_10_M</td>\n",
              "      <td>MAA000560</td>\n",
              "    </tr>\n",
              "    <tr>\n",
              "      <th>A1.MAA000564.3_10_M.1.1</th>\n",
              "      <td>endothelial cell</td>\n",
              "      <td>Striatum</td>\n",
              "      <td>M</td>\n",
              "      <td>3_10_M</td>\n",
              "      <td>MAA000564</td>\n",
              "    </tr>\n",
              "    <tr>\n",
              "      <th>A1.MAA000923.3_9_M.1.1</th>\n",
              "      <td>astrocyte</td>\n",
              "      <td>Hippocampus</td>\n",
              "      <td>M</td>\n",
              "      <td>3_9_M</td>\n",
              "      <td>MAA000923</td>\n",
              "    </tr>\n",
              "  </tbody>\n",
              "</table>\n",
              "</div>"
            ],
            "text/plain": [
              "                        cell_ontology_class    subtissue  ... mouse.id plate.barcode\n",
              "cell                                                      ...                       \n",
              "A1.B003290.3_38_F.1.1             astrocyte     Striatum  ...   3_38_F       B003290\n",
              "A1.B003728.3_56_F.1.1             astrocyte     Striatum  ...   3_56_F       B003728\n",
              "A1.MAA000560.3_10_M.1.1     oligodendrocyte       Cortex  ...   3_10_M     MAA000560\n",
              "A1.MAA000564.3_10_M.1.1    endothelial cell     Striatum  ...   3_10_M     MAA000564\n",
              "A1.MAA000923.3_9_M.1.1            astrocyte  Hippocampus  ...    3_9_M     MAA000923\n",
              "\n",
              "[5 rows x 5 columns]"
            ]
          },
          "metadata": {}
        },
        {
          "output_type": "stream",
          "name": "stdout",
          "text": [
            "DF shape:  (3401, 5)\n"
          ]
        }
      ]
    },
    {
      "cell_type": "code",
      "metadata": {
        "colab": {
          "base_uri": "https://localhost:8080/"
        },
        "id": "DoeLnEVpQET1",
        "outputId": "e2d821f0-6689-46c0-aa85-f7c4da6cdea5"
      },
      "source": [
        "print(\"Subtissue types: \",brain_metadata.subtissue.unique())\n",
        "print(\"Ontology Classes:\" ,brain_metadata.cell_ontology_class.unique())"
      ],
      "execution_count": null,
      "outputs": [
        {
          "output_type": "stream",
          "name": "stdout",
          "text": [
            "Subtissue types:  ['Striatum' 'Cortex' 'Hippocampus' 'Cerebellum']\n",
            "Ontology Classes: ['astrocyte' 'oligodendrocyte' 'endothelial cell' 'neuron'\n",
            " 'oligodendrocyte precursor cell' 'Bergmann glial cell' 'brain pericyte']\n"
          ]
        }
      ]
    },
    {
      "cell_type": "markdown",
      "metadata": {
        "id": "DfegC8t5ZG7V"
      },
      "source": [
        "AnnData stands for \"annotated data,\" and is the standard format used by the analysis library, SCANPY.\n",
        "\n",
        "AnnData uses some generalized vocabulary to describe cells and genes: they refer to cells as observations and genes as variables. This data structure has four areas where we can store information\n",
        "\n",
        "1. Store count matrix ( AnnData.X)\n",
        "2. sotre matadata info (AnnData.obs) \n",
        "3. store metadata about gene (AnnData.var)\n",
        "4. sotres unstre=uctured info (AnnData.uns) "
      ]
    },
    {
      "cell_type": "code",
      "metadata": {
        "colab": {
          "base_uri": "https://localhost:8080/",
          "height": 51
        },
        "id": "GG3D-0GAQEV6",
        "outputId": "5e9b09af-55aa-47f1-806a-68ba3662f3ff"
      },
      "source": [
        "adata = sc.AnnData(X = brain_counts_df, obs = brain_metadata)\n",
        "display(adata)"
      ],
      "execution_count": null,
      "outputs": [
        {
          "output_type": "display_data",
          "data": {
            "text/plain": [
              "AnnData object with n_obs × n_vars = 3401 × 23433\n",
              "    obs: 'cell_ontology_class', 'subtissue', 'mouse.sex', 'mouse.id', 'plate.barcode'"
            ]
          },
          "metadata": {}
        }
      ]
    },
    {
      "cell_type": "markdown",
      "metadata": {
        "id": "bJ-NHHRCaNrh"
      },
      "source": [
        "Because this is smartseq2 data, we may have spike-ins. These gene names start with ERCC. We can label them in adata.var as a gene annotation."
      ]
    },
    {
      "cell_type": "code",
      "metadata": {
        "colab": {
          "base_uri": "https://localhost:8080/"
        },
        "id": "wVxqmEq5QEYN",
        "outputId": "ab751b22-77f3-4553-d3a7-ccf8f3084420"
      },
      "source": [
        "is_spike_in = {}\n",
        "number_of_spike_ins = 0\n",
        "\n",
        "for gene_name in adata.var_names:\n",
        "    if 'ERCC' in gene_name:\n",
        "        is_spike_in[gene_name] = True # record that we found a spike-in\n",
        "        number_of_spike_ins += 1 # bump the counter\n",
        "    else:\n",
        "        is_spike_in[gene_name] = False # record that this was not a spike-in\n",
        "        \n",
        "adata.var['ERCC'] = pd.Series(is_spike_in) # because the index of adata.var and the keys of is_spike_in match, anndata will take care of matching them up\n",
        "print('found this many spike ins: ', number_of_spike_ins)\n"
      ],
      "execution_count": null,
      "outputs": [
        {
          "output_type": "stream",
          "name": "stdout",
          "text": [
            "found this many spike ins:  92\n"
          ]
        }
      ]
    },
    {
      "cell_type": "code",
      "metadata": {
        "id": "c7HFVJGRQEaY"
      },
      "source": [
        "#adata.write(\"/content/brain_raw.h5ad\")\n",
        "#adata = sc.read('/content/brain_raw.h5ad')"
      ],
      "execution_count": null,
      "outputs": []
    },
    {
      "cell_type": "markdown",
      "metadata": {
        "id": "19N2WGvwcLYK"
      },
      "source": [
        "#Quality Control\n",
        "\n",
        "Since we have our expression matrix, we need to remove poor quality cells which were not detected in the initial processing of the raw reads. Failure to remove  may add technical noise which obscures the biological signals of interest in the downstream analysis.\n",
        "\n",
        "To perform QC we will be looking for cells which are outliers with respect to the rest of the dataset rather than comparing to independent quality standards. Consequently, care should be taken when comparing quality metrics across datasets collected using different protocols."
      ]
    },
    {
      "cell_type": "code",
      "metadata": {
        "colab": {
          "base_uri": "https://localhost:8080/",
          "height": 272
        },
        "id": "8sTafNBWcLF7",
        "outputId": "3ddca8f2-b5a1-40da-f207-84d991caa232"
      },
      "source": [
        "#The calculate_qc_metrics function returns two dataframes: one containing quality control metrics about cells, \n",
        "#nd one containing metrics about genes.This function is housed in the 'preprocessing' portion of the SCANPY library\n",
        "#Returns (cell_qc_dataframe, gene_qc_dataframe) or (qc[0],qc[1])\n",
        "\n",
        "qc = sc.pp.calculate_qc_metrics(adata, qc_vars= ['ERCC'])\n",
        "display(qc[0].head())\n",
        "print(qc[0].shape)\n",
        "\n",
        "cell_qc_dataframe = qc[0]\n",
        "gene_qc_dataframe = qc[1]"
      ],
      "execution_count": 26,
      "outputs": [
        {
          "output_type": "display_data",
          "data": {
            "text/html": [
              "<div>\n",
              "<style scoped>\n",
              "    .dataframe tbody tr th:only-of-type {\n",
              "        vertical-align: middle;\n",
              "    }\n",
              "\n",
              "    .dataframe tbody tr th {\n",
              "        vertical-align: top;\n",
              "    }\n",
              "\n",
              "    .dataframe thead th {\n",
              "        text-align: right;\n",
              "    }\n",
              "</style>\n",
              "<table border=\"1\" class=\"dataframe\">\n",
              "  <thead>\n",
              "    <tr style=\"text-align: right;\">\n",
              "      <th></th>\n",
              "      <th>n_genes_by_counts</th>\n",
              "      <th>log1p_n_genes_by_counts</th>\n",
              "      <th>total_counts</th>\n",
              "      <th>log1p_total_counts</th>\n",
              "      <th>pct_counts_in_top_50_genes</th>\n",
              "      <th>pct_counts_in_top_100_genes</th>\n",
              "      <th>pct_counts_in_top_200_genes</th>\n",
              "      <th>pct_counts_in_top_500_genes</th>\n",
              "      <th>total_counts_ERCC</th>\n",
              "      <th>log1p_total_counts_ERCC</th>\n",
              "      <th>pct_counts_ERCC</th>\n",
              "    </tr>\n",
              "    <tr>\n",
              "      <th>cell</th>\n",
              "      <th></th>\n",
              "      <th></th>\n",
              "      <th></th>\n",
              "      <th></th>\n",
              "      <th></th>\n",
              "      <th></th>\n",
              "      <th></th>\n",
              "      <th></th>\n",
              "      <th></th>\n",
              "      <th></th>\n",
              "      <th></th>\n",
              "    </tr>\n",
              "  </thead>\n",
              "  <tbody>\n",
              "    <tr>\n",
              "      <th>A1.B003290.3_38_F.1.1</th>\n",
              "      <td>3359</td>\n",
              "      <td>8.119696</td>\n",
              "      <td>390075.0</td>\n",
              "      <td>12.874097</td>\n",
              "      <td>25.884766</td>\n",
              "      <td>32.847017</td>\n",
              "      <td>42.219573</td>\n",
              "      <td>59.472666</td>\n",
              "      <td>10201.0</td>\n",
              "      <td>9.230339</td>\n",
              "      <td>2.615138</td>\n",
              "    </tr>\n",
              "    <tr>\n",
              "      <th>A1.B003728.3_56_F.1.1</th>\n",
              "      <td>1718</td>\n",
              "      <td>7.449498</td>\n",
              "      <td>776439.0</td>\n",
              "      <td>13.562474</td>\n",
              "      <td>43.051933</td>\n",
              "      <td>52.912721</td>\n",
              "      <td>65.313309</td>\n",
              "      <td>87.315423</td>\n",
              "      <td>67351.0</td>\n",
              "      <td>11.117688</td>\n",
              "      <td>8.674345</td>\n",
              "    </tr>\n",
              "    <tr>\n",
              "      <th>A1.MAA000560.3_10_M.1.1</th>\n",
              "      <td>3910</td>\n",
              "      <td>8.271548</td>\n",
              "      <td>1616087.0</td>\n",
              "      <td>14.295519</td>\n",
              "      <td>44.066006</td>\n",
              "      <td>51.514553</td>\n",
              "      <td>60.164211</td>\n",
              "      <td>74.451190</td>\n",
              "      <td>29870.0</td>\n",
              "      <td>10.304644</td>\n",
              "      <td>1.848292</td>\n",
              "    </tr>\n",
              "    <tr>\n",
              "      <th>A1.MAA000564.3_10_M.1.1</th>\n",
              "      <td>4352</td>\n",
              "      <td>8.378621</td>\n",
              "      <td>360004.0</td>\n",
              "      <td>12.793873</td>\n",
              "      <td>41.650926</td>\n",
              "      <td>48.958623</td>\n",
              "      <td>56.997422</td>\n",
              "      <td>69.736170</td>\n",
              "      <td>2592.0</td>\n",
              "      <td>7.860571</td>\n",
              "      <td>0.719992</td>\n",
              "    </tr>\n",
              "    <tr>\n",
              "      <th>A1.MAA000923.3_9_M.1.1</th>\n",
              "      <td>2248</td>\n",
              "      <td>7.718241</td>\n",
              "      <td>290282.0</td>\n",
              "      <td>12.578611</td>\n",
              "      <td>63.392494</td>\n",
              "      <td>69.136908</td>\n",
              "      <td>77.168753</td>\n",
              "      <td>90.522320</td>\n",
              "      <td>11002.0</td>\n",
              "      <td>9.305923</td>\n",
              "      <td>3.790107</td>\n",
              "    </tr>\n",
              "  </tbody>\n",
              "</table>\n",
              "</div>"
            ],
            "text/plain": [
              "                         n_genes_by_counts  ...  pct_counts_ERCC\n",
              "cell                                        ...                 \n",
              "A1.B003290.3_38_F.1.1                 3359  ...         2.615138\n",
              "A1.B003728.3_56_F.1.1                 1718  ...         8.674345\n",
              "A1.MAA000560.3_10_M.1.1               3910  ...         1.848292\n",
              "A1.MAA000564.3_10_M.1.1               4352  ...         0.719992\n",
              "A1.MAA000923.3_9_M.1.1                2248  ...         3.790107\n",
              "\n",
              "[5 rows x 11 columns]"
            ]
          },
          "metadata": {}
        },
        {
          "output_type": "stream",
          "name": "stdout",
          "text": [
            "(3401, 11)\n"
          ]
        }
      ]
    },
    {
      "cell_type": "code",
      "metadata": {
        "colab": {
          "base_uri": "https://localhost:8080/",
          "height": 458
        },
        "id": "HpXznS_Su5S_",
        "outputId": "a5739076-d20e-4111-84e9-a73bf56becbf"
      },
      "source": [
        "sc.pp.calculate_qc_metrics(adata, qc_vars=[\"ERCC\"], inplace=True)\n",
        "sns.jointplot(\n",
        "    data=adata.obs,\n",
        "    x=\"log1p_total_counts\",\n",
        "    y=\"log1p_n_genes_by_counts\",\n",
        "    kind=\"hex\")"
      ],
      "execution_count": null,
      "outputs": [
        {
          "output_type": "execute_result",
          "data": {
            "text/plain": [
              "<seaborn.axisgrid.JointGrid at 0x7f4a51c9efd0>"
            ]
          },
          "metadata": {},
          "execution_count": 12
        },
        {
          "output_type": "display_data",
          "data": {
            "image/png": "[encoded data removed]",
            "text/plain": [
              "<Figure size 432x432 with 3 Axes>"
            ]
          },
          "metadata": {
            "needs_background": "light"
          }
        }
      ]
    },
    {
      "cell_type": "code",
      "metadata": {
        "colab": {
          "base_uri": "https://localhost:8080/",
          "height": 297
        },
        "id": "cubS3KR4QEcm",
        "outputId": "8251e81c-fb5d-4166-fac1-33514a38178f"
      },
      "source": [
        "sns.histplot(adata.obs['pct_counts_ERCC'],bins = 1000)"
      ],
      "execution_count": 30,
      "outputs": [
        {
          "output_type": "execute_result",
          "data": {
            "text/plain": [
              "<matplotlib.axes._subplots.AxesSubplot at 0x7f4a4f6b5790>"
            ]
          },
          "metadata": {},
          "execution_count": 30
        },
        {
          "output_type": "display_data",
          "data": {
            "image/png": "[encoded data removed]",
            "text/plain": [
              "<Figure size 432x288 with 1 Axes>"
            ]
          },
          "metadata": {
            "needs_background": "light"
          }
        }
      ]
    },
    {
      "cell_type": "code",
      "metadata": {
        "colab": {
          "base_uri": "https://localhost:8080/",
          "height": 296
        },
        "id": "WtJIHhVO36pH",
        "outputId": "6dbc2393-dea6-4f05-f25e-b76f5f89241c"
      },
      "source": [
        "plt.hist(cell_qc_dataframe['total_counts'], bins=1000)\n",
        "plt.xlabel('Total counts')\n",
        "plt.ylabel('N cells')\n",
        "plt.axvline(50000, color='red')"
      ],
      "execution_count": 28,
      "outputs": [
        {
          "output_type": "execute_result",
          "data": {
            "text/plain": [
              "<matplotlib.lines.Line2D at 0x7f4a4f91bbd0>"
            ]
          },
          "metadata": {},
          "execution_count": 28
        },
        {
          "output_type": "display_data",
          "data": {
            "image/png": "[encoded data removed]",
            "text/plain": [
              "<Figure size 432x288 with 1 Axes>"
            ]
          },
          "metadata": {
            "needs_background": "light"
          }
        }
      ]
    },
    {
      "cell_type": "code",
      "metadata": {
        "colab": {
          "base_uri": "https://localhost:8080/",
          "height": 296
        },
        "id": "bDXH9nqr36fm",
        "outputId": "cbd2bab6-504e-46c0-cf5e-666fc9f8453b"
      },
      "source": [
        "plt.hist(cell_qc_dataframe['n_genes_by_counts'], bins=100)\n",
        "plt.xlabel('N genes')\n",
        "plt.ylabel('N cells')\n",
        "plt.axvline(1000, color='red')"
      ],
      "execution_count": 29,
      "outputs": [
        {
          "output_type": "execute_result",
          "data": {
            "text/plain": [
              "<matplotlib.lines.Line2D at 0x7f4a4e067550>"
            ]
          },
          "metadata": {},
          "execution_count": 29
        },
        {
          "output_type": "display_data",
          "data": {
            "image/png": "[encoded data removed]",
            "text/plain": [
              "<Figure size 432x288 with 1 Axes>"
            ]
          },
          "metadata": {
            "needs_background": "light"
          }
        }
      ]
    },
    {
      "cell_type": "code",
      "metadata": {
        "colab": {
          "base_uri": "https://localhost:8080/",
          "height": 279
        },
        "id": "sM3rbG5iQEet",
        "outputId": "b6ba8508-a1fc-4292-9411-ef0e0dda1d4c"
      },
      "source": [
        "plt.hist(gene_qc_dataframe['n_cells_by_counts'], bins=1000)\n",
        "plt.xlabel('N cells expressing > 0')\n",
        "plt.ylabel('log(N genes)') # for visual clarity\n",
        "plt.axvline(2, color='red')\n",
        "plt.yscale('log') "
      ],
      "execution_count": 27,
      "outputs": [
        {
          "output_type": "display_data",
          "data": {
            "image/png": "[encoded data removed]",
            "text/plain": [
              "<Figure size 432x288 with 1 Axes>"
            ]
          },
          "metadata": {
            "needs_background": "light"
          }
        }
      ]
    },
    {
      "cell_type": "code",
      "metadata": {
        "id": "PobhJ3_UQEg5"
      },
      "source": [
        ""
      ],
      "execution_count": null,
      "outputs": []
    },
    {
      "cell_type": "code",
      "metadata": {
        "id": "4GGuk55rQEjB"
      },
      "source": [
        ""
      ],
      "execution_count": null,
      "outputs": []
    },
    {
      "cell_type": "code",
      "metadata": {
        "id": "DDHZrwiRQElf"
      },
      "source": [
        ""
      ],
      "execution_count": null,
      "outputs": []
    },
    {
      "cell_type": "code",
      "metadata": {
        "id": "XEol3IrjQEn1"
      },
      "source": [
        ""
      ],
      "execution_count": null,
      "outputs": []
    },
    {
      "cell_type": "code",
      "metadata": {
        "id": "MQBChtMGQEqK"
      },
      "source": [
        ""
      ],
      "execution_count": null,
      "outputs": []
    },
    {
      "cell_type": "code",
      "metadata": {
        "id": "X3yFa5vTQEsn"
      },
      "source": [
        ""
      ],
      "execution_count": null,
      "outputs": []
    },
    {
      "cell_type": "code",
      "metadata": {
        "id": "YBTFcslyQEu2"
      },
      "source": [
        ""
      ],
      "execution_count": null,
      "outputs": []
    },
    {
      "cell_type": "code",
      "metadata": {
        "id": "L2KeMFQpQEw9"
      },
      "source": [
        ""
      ],
      "execution_count": null,
      "outputs": []
    }
  ]
}