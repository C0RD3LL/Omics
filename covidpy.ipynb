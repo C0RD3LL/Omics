{
  "nbformat": 4,
  "nbformat_minor": 0,
  "metadata": {
    "colab": {
      "name": "covidpy.ipynb",
      "provenance": [],
      "collapsed_sections": [],
      "authorship_tag": "ABX9TyPPVD0QOlJSCXQrI8Nqjcbj",
      "include_colab_link": true
    },
    "kernelspec": {
      "name": "python3",
      "display_name": "Python 3"
    },
    "language_info": {
      "name": "python"
    }
  },
  "cells": [
    {
      "cell_type": "markdown",
      "metadata": {
        "id": "view-in-github",
        "colab_type": "text"
      },
      "source": [
        "<a href=\"https://colab.research.google.com/github/C0RD3LL/Omics/blob/main/covidpy.ipynb\" target=\"_parent\"><img src=\"https://colab.research.google.com/assets/colab-badge.svg\" alt=\"Open In Colab\"/></a>"
      ]
    },
    {
      "cell_type": "markdown",
      "metadata": {
        "id": "TelBCCMoY2N1"
      },
      "source": [
        "Goals for this week\n",
        "- Align human and rat \n",
        "- Find a way to manipulate the large dataset.\n"
      ]
    },
    {
      "cell_type": "code",
      "metadata": {
        "colab": {
          "base_uri": "https://localhost:8080/"
        },
        "id": "ubLVRe9zLY4O",
        "outputId": "c1499f40-3095-4edd-e917-92e495d841af"
      },
      "source": [
        "pip install biopython"
      ],
      "execution_count": 1,
      "outputs": [
        {
          "output_type": "stream",
          "name": "stdout",
          "text": [
            "Collecting biopython\n",
            "  Downloading biopython-1.79-cp37-cp37m-manylinux_2_5_x86_64.manylinux1_x86_64.whl (2.3 MB)\n",
            "\u001b[K     |████████████████████████████████| 2.3 MB 4.9 MB/s \n",
            "\u001b[?25hRequirement already satisfied: numpy in /usr/local/lib/python3.7/dist-packages (from biopython) (1.19.5)\n",
            "Installing collected packages: biopython\n",
            "Successfully installed biopython-1.79\n"
          ]
        }
      ]
    },
    {
      "cell_type": "code",
      "metadata": {
        "id": "gcyoWoCmN2zV"
      },
      "source": [
        "from Bio import SeqIO, Phylo, AlignIO, pairwise2, Align\n",
        "from Bio.Align.Applications import ClustalwCommandline\n",
        "import requests\n",
        "from io import StringIO\n",
        "import numpy as np\n",
        "\n",
        "aligner = Align.PairwiseAligner(match_score = 1.0)"
      ],
      "execution_count": 31,
      "outputs": []
    },
    {
      "cell_type": "markdown",
      "metadata": {
        "id": "vTg1ZUnFc-fM"
      },
      "source": [
        "\n"
      ]
    },
    {
      "cell_type": "code",
      "metadata": {
        "id": "FiMJGdK9N22J",
        "colab": {
          "base_uri": "https://localhost:8080/"
        },
        "outputId": "de148263-ec51-4694-98e3-d5322c32234e"
      },
      "source": [
        "url = \"https://raw.githubusercontent.com/C0RD3LL/Omics/main/sequences.fasta\"\n",
        "response = requests.get(url).text\n",
        "data = SeqIO.parse(StringIO(response), \"fasta\")\n",
        "first_rec = next(data)\n",
        "print(first_rec)"
      ],
      "execution_count": 11,
      "outputs": [
        {
          "output_type": "stream",
          "name": "stdout",
          "text": [
            "ID: NC_048211.1\n",
            "Name: NC_048211.1\n",
            "Description: NC_048211.1 |Wencheng Sm shrew coronavirus isolate Xingguo-74 ORF1ab polyprotein, spike glycoprotein, envelope protein, membrane protein, and nucleocapsid protein genes, complete cds\n",
            "Number of features: 0\n",
            "Seq('GGCTCGTCTTCTCAAACTAAACGAAATTTGCAAAATACACATGGTTGTGTGTTT...AAA')\n"
          ]
        }
      ]
    },
    {
      "cell_type": "code",
      "metadata": {
        "colab": {
          "base_uri": "https://localhost:8080/"
        },
        "id": "2Azx5qdOoRp9",
        "outputId": "39da7301-e952-40ba-f48a-7b4b9fe2f1c7"
      },
      "source": [
        "humanurl = \"https://raw.githubusercontent.com/C0RD3LL/Omics/main/Data/HumanSARSV2\"\n",
        "humanrepo = requests.get(humanurl).text\n",
        "human = SeqIO.read(StringIO(humanrepo), \"fasta\")\n",
        "print(human)"
      ],
      "execution_count": 5,
      "outputs": [
        {
          "output_type": "stream",
          "name": "stdout",
          "text": [
            "ID: NC_045512.2\n",
            "Name: NC_045512.2\n",
            "Description: NC_045512.2 Severe acute respiratory syndrome coronavirus 2 isolate Wuhan-Hu-1, complete genome\n",
            "Number of features: 0\n",
            "Seq('ATTAAAGGTTTATACCTTCCCAGGTAACAAACCAACCAACTTTCGATCTCTTGT...AAA')\n"
          ]
        }
      ]
    },
    {
      "cell_type": "code",
      "metadata": {
        "colab": {
          "base_uri": "https://localhost:8080/"
        },
        "id": "2RRyEJJ620P-",
        "outputId": "cd198bca-a0df-4ac8-ad46-ded9036e4528"
      },
      "source": [
        "baturl = \"https://raw.githubusercontent.com/C0RD3LL/Omics/main/Data/BatSARSV2.fasta\"\n",
        "batrepo = requests.get(baturl).text\n",
        "bat = SeqIO.read(StringIO(batrepo), \"fasta\")\n",
        "print(bat)"
      ],
      "execution_count": 6,
      "outputs": [
        {
          "output_type": "stream",
          "name": "stdout",
          "text": [
            "ID: NC_018871.1\n",
            "Name: NC_018871.1\n",
            "Description: NC_018871.1 Rousettus bat coronavirus HKU10, complete genome\n",
            "Number of features: 0\n",
            "Seq('ACATGGGGACTTATTGTGATTTTCTATCTGCGGATAGTAAGTGTCACTACTTAG...CGC')\n"
          ]
        }
      ]
    },
    {
      "cell_type": "code",
      "metadata": {
        "id": "yYq3jutHN24s",
        "colab": {
          "base_uri": "https://localhost:8080/"
        },
        "outputId": "35a060f4-7fa6-40ac-d141-aa08444cd5d9"
      },
      "source": [
        "for x in SeqIO.parse(StringIO(response), \"fasta\"):\n",
        "  print(\"Seq len:\", len(x.seq), \" |Id:\", x.description)"
      ],
      "execution_count": 7,
      "outputs": [
        {
          "output_type": "stream",
          "name": "stdout",
          "text": [
            "Seq len: 25984  |Id: NC_048211.1 |Wencheng Sm shrew coronavirus isolate Xingguo-74 ORF1ab polyprotein, spike glycoprotein, envelope protein, membrane protein, and nucleocapsid protein genes, complete cds\n",
            "Seq len: 27754  |Id: NC_048214.1 |Duck coronavirus isolate DK/GD/27/2014, complete genome\n",
            "Seq len: 31393  |Id: NC_046954.1 |Rodent coronavirus isolate RtMruf-CoV-2/JL2014, complete genome\n",
            "Seq len: 27102  |Id: NC_046955.1 |Shrew coronavirus isolate Shrew-CoV/Tibet2014 ORF1ab polyprotein, spike glycoprotein, envelope protein, membrane protein, and nucleocapsid protein genes, complete cds\n",
            "Seq len: 29903  |Id: NC_045512.2 |Severe acute respiratory syndrome coronavirus 2 isolate Wuhan-Hu-1, complete genome\n",
            "Seq len: 25995  |Id: NC_035191.1 |Wencheng Sm shrew coronavirus isolate Xingguo-101 ORF1ab polyprotein, spike glycoprotein, envelope protein, membrane protein, and nucleocapsid protein genes, complete cds\n",
            "Seq len: 27682  |Id: NC_034972.1 |Coronavirus AcCoV-JC34, complete genome\n",
            "Seq len: 28763  |Id: NC_032730.1 |Lucheng Rn rat coronavirus isolate Lucheng-19, complete genome\n",
            "Seq len: 30161  |Id: NC_030886.1 |Rousettus bat coronavirus isolate GCCDC1 356, complete genome\n",
            "Seq len: 27935  |Id: NC_028811.1 |BtMr-AlphaCoV/SAX2011, complete genome\n",
            "Seq len: 27608  |Id: NC_028814.1 |BtRf-AlphaCoV/HuB2013, complete genome\n",
            "Seq len: 26975  |Id: NC_028824.1 |BtRf-AlphaCoV/YN2012, complete genome\n",
            "Seq len: 27783  |Id: NC_028833.1 |BtNv-AlphaCoV/SC2013, complete genome\n",
            "Seq len: 31249  |Id: NC_026011.1 |Betacoronavirus HKU24 strain HKU24-R05005I, complete genome\n",
            "Seq len: 31491  |Id: NC_025217.1 |Bat Hp-betacoronavirus/Zhejiang2013, complete genome\n",
            "Seq len: 28494  |Id: NC_018871.1 |Rousettus bat coronavirus HKU10, complete genome\n",
            "Seq len: 31100  |Id: NC_017083.1 |Rabbit coronavirus HKU14, complete genome\n"
          ]
        }
      ]
    },
    {
      "cell_type": "code",
      "metadata": {
        "id": "lhB_kCXQ4VnT",
        "colab": {
          "base_uri": "https://localhost:8080/",
          "height": 341
        },
        "outputId": "f3acde7e-7a83-4b08-c3a4-52e8cb098a18"
      },
      "source": [
        "\n",
        "tree = Phylo.read(align,\"newick\")\n",
        "Phylo.draw_ascii(tree)"
      ],
      "execution_count": 28,
      "outputs": [
        {
          "output_type": "error",
          "ename": "AttributeError",
          "evalue": "ignored",
          "traceback": [
            "\u001b[0;31m---------------------------------------------------------------------------\u001b[0m",
            "\u001b[0;31mAttributeError\u001b[0m                            Traceback (most recent call last)",
            "\u001b[0;32m<ipython-input-28-0a08eec473fb>\u001b[0m in \u001b[0;36m<module>\u001b[0;34m()\u001b[0m\n\u001b[1;32m      1\u001b[0m \u001b[0;34m\u001b[0m\u001b[0m\n\u001b[0;32m----> 2\u001b[0;31m \u001b[0mtree\u001b[0m \u001b[0;34m=\u001b[0m \u001b[0mPhylo\u001b[0m\u001b[0;34m.\u001b[0m\u001b[0mread\u001b[0m\u001b[0;34m(\u001b[0m\u001b[0malign\u001b[0m\u001b[0;34m,\u001b[0m\u001b[0;34m\"newick\"\u001b[0m\u001b[0;34m)\u001b[0m\u001b[0;34m\u001b[0m\u001b[0;34m\u001b[0m\u001b[0m\n\u001b[0m\u001b[1;32m      3\u001b[0m \u001b[0mPhylo\u001b[0m\u001b[0;34m.\u001b[0m\u001b[0mdraw_ascii\u001b[0m\u001b[0;34m(\u001b[0m\u001b[0mtree\u001b[0m\u001b[0;34m)\u001b[0m\u001b[0;34m\u001b[0m\u001b[0;34m\u001b[0m\u001b[0m\n",
            "\u001b[0;32m/usr/local/lib/python3.7/dist-packages/Bio/Phylo/_io.py\u001b[0m in \u001b[0;36mread\u001b[0;34m(file, format, **kwargs)\u001b[0m\n\u001b[1;32m     58\u001b[0m     \u001b[0;32mtry\u001b[0m\u001b[0;34m:\u001b[0m\u001b[0;34m\u001b[0m\u001b[0;34m\u001b[0m\u001b[0m\n\u001b[1;32m     59\u001b[0m         \u001b[0mtree_gen\u001b[0m \u001b[0;34m=\u001b[0m \u001b[0mparse\u001b[0m\u001b[0;34m(\u001b[0m\u001b[0mfile\u001b[0m\u001b[0;34m,\u001b[0m \u001b[0mformat\u001b[0m\u001b[0;34m,\u001b[0m \u001b[0;34m**\u001b[0m\u001b[0mkwargs\u001b[0m\u001b[0;34m)\u001b[0m\u001b[0;34m\u001b[0m\u001b[0;34m\u001b[0m\u001b[0m\n\u001b[0;32m---> 60\u001b[0;31m         \u001b[0mtree\u001b[0m \u001b[0;34m=\u001b[0m \u001b[0mnext\u001b[0m\u001b[0;34m(\u001b[0m\u001b[0mtree_gen\u001b[0m\u001b[0;34m)\u001b[0m\u001b[0;34m\u001b[0m\u001b[0;34m\u001b[0m\u001b[0m\n\u001b[0m\u001b[1;32m     61\u001b[0m     \u001b[0;32mexcept\u001b[0m \u001b[0mStopIteration\u001b[0m\u001b[0;34m:\u001b[0m\u001b[0;34m\u001b[0m\u001b[0;34m\u001b[0m\u001b[0m\n\u001b[1;32m     62\u001b[0m         \u001b[0;32mraise\u001b[0m \u001b[0mValueError\u001b[0m\u001b[0;34m(\u001b[0m\u001b[0;34m\"There are no trees in this file.\"\u001b[0m\u001b[0;34m)\u001b[0m \u001b[0;32mfrom\u001b[0m \u001b[0;32mNone\u001b[0m\u001b[0;34m\u001b[0m\u001b[0;34m\u001b[0m\u001b[0m\n",
            "\u001b[0;32m/usr/local/lib/python3.7/dist-packages/Bio/Phylo/_io.py\u001b[0m in \u001b[0;36mparse\u001b[0;34m(file, format, **kwargs)\u001b[0m\n\u001b[1;32m     47\u001b[0m     \"\"\"\n\u001b[1;32m     48\u001b[0m     \u001b[0;32mwith\u001b[0m \u001b[0mFile\u001b[0m\u001b[0;34m.\u001b[0m\u001b[0mas_handle\u001b[0m\u001b[0;34m(\u001b[0m\u001b[0mfile\u001b[0m\u001b[0;34m)\u001b[0m \u001b[0;32mas\u001b[0m \u001b[0mfp\u001b[0m\u001b[0;34m:\u001b[0m\u001b[0;34m\u001b[0m\u001b[0;34m\u001b[0m\u001b[0m\n\u001b[0;32m---> 49\u001b[0;31m         \u001b[0;32myield\u001b[0m \u001b[0;32mfrom\u001b[0m \u001b[0mgetattr\u001b[0m\u001b[0;34m(\u001b[0m\u001b[0msupported_formats\u001b[0m\u001b[0;34m[\u001b[0m\u001b[0mformat\u001b[0m\u001b[0;34m]\u001b[0m\u001b[0;34m,\u001b[0m \u001b[0;34m\"parse\"\u001b[0m\u001b[0;34m)\u001b[0m\u001b[0;34m(\u001b[0m\u001b[0mfp\u001b[0m\u001b[0;34m,\u001b[0m \u001b[0;34m**\u001b[0m\u001b[0mkwargs\u001b[0m\u001b[0;34m)\u001b[0m\u001b[0;34m\u001b[0m\u001b[0;34m\u001b[0m\u001b[0m\n\u001b[0m\u001b[1;32m     50\u001b[0m \u001b[0;34m\u001b[0m\u001b[0m\n\u001b[1;32m     51\u001b[0m \u001b[0;34m\u001b[0m\u001b[0m\n",
            "\u001b[0;32m/usr/local/lib/python3.7/dist-packages/Bio/Phylo/NewickIO.py\u001b[0m in \u001b[0;36mparse\u001b[0;34m(handle, **kwargs)\u001b[0m\n\u001b[1;32m     50\u001b[0m \u001b[0;34m\u001b[0m\u001b[0m\n\u001b[1;32m     51\u001b[0m     \"\"\"\n\u001b[0;32m---> 52\u001b[0;31m     \u001b[0;32mreturn\u001b[0m \u001b[0mParser\u001b[0m\u001b[0;34m(\u001b[0m\u001b[0mhandle\u001b[0m\u001b[0;34m)\u001b[0m\u001b[0;34m.\u001b[0m\u001b[0mparse\u001b[0m\u001b[0;34m(\u001b[0m\u001b[0;34m**\u001b[0m\u001b[0mkwargs\u001b[0m\u001b[0;34m)\u001b[0m\u001b[0;34m\u001b[0m\u001b[0;34m\u001b[0m\u001b[0m\n\u001b[0m\u001b[1;32m     53\u001b[0m \u001b[0;34m\u001b[0m\u001b[0m\n\u001b[1;32m     54\u001b[0m \u001b[0;34m\u001b[0m\u001b[0m\n",
            "\u001b[0;32m/usr/local/lib/python3.7/dist-packages/Bio/Phylo/NewickIO.py\u001b[0m in \u001b[0;36m__init__\u001b[0;34m(self, handle)\u001b[0m\n\u001b[1;32m    102\u001b[0m     \u001b[0;32mdef\u001b[0m \u001b[0m__init__\u001b[0m\u001b[0;34m(\u001b[0m\u001b[0mself\u001b[0m\u001b[0;34m,\u001b[0m \u001b[0mhandle\u001b[0m\u001b[0;34m)\u001b[0m\u001b[0;34m:\u001b[0m\u001b[0;34m\u001b[0m\u001b[0;34m\u001b[0m\u001b[0m\n\u001b[1;32m    103\u001b[0m         \u001b[0;34m\"\"\"Initialize file handle for the Newick Tree.\"\"\"\u001b[0m\u001b[0;34m\u001b[0m\u001b[0;34m\u001b[0m\u001b[0m\n\u001b[0;32m--> 104\u001b[0;31m         \u001b[0;32mif\u001b[0m \u001b[0mhandle\u001b[0m\u001b[0;34m.\u001b[0m\u001b[0mread\u001b[0m\u001b[0;34m(\u001b[0m\u001b[0;36m0\u001b[0m\u001b[0;34m)\u001b[0m \u001b[0;34m!=\u001b[0m \u001b[0;34m\"\"\u001b[0m\u001b[0;34m:\u001b[0m\u001b[0;34m\u001b[0m\u001b[0;34m\u001b[0m\u001b[0m\n\u001b[0m\u001b[1;32m    105\u001b[0m             \u001b[0;32mraise\u001b[0m \u001b[0mValueError\u001b[0m\u001b[0;34m(\u001b[0m\u001b[0;34m\"Newick files must be opened in text mode\"\u001b[0m\u001b[0;34m)\u001b[0m \u001b[0;32mfrom\u001b[0m \u001b[0;32mNone\u001b[0m\u001b[0;34m\u001b[0m\u001b[0;34m\u001b[0m\u001b[0m\n\u001b[1;32m    106\u001b[0m         \u001b[0mself\u001b[0m\u001b[0;34m.\u001b[0m\u001b[0mhandle\u001b[0m \u001b[0;34m=\u001b[0m \u001b[0mhandle\u001b[0m\u001b[0;34m\u001b[0m\u001b[0;34m\u001b[0m\u001b[0m\n",
            "\u001b[0;31mAttributeError\u001b[0m: 'generator' object has no attribute 'read'"
          ]
        }
      ]
    },
    {
      "cell_type": "code",
      "metadata": {
        "id": "T3cozYsZJhuB"
      },
      "source": [
        ""
      ],
      "execution_count": null,
      "outputs": []
    },
    {
      "cell_type": "code",
      "metadata": {
        "id": "NCAD5Mult6pl"
      },
      "source": [
        "alignments = pairwise2.align.globalxx(human,bat)"
      ],
      "execution_count": 13,
      "outputs": []
    },
    {
      "cell_type": "code",
      "metadata": {
        "colab": {
          "base_uri": "https://localhost:8080/"
        },
        "id": "5hX39ki6Jhcu",
        "outputId": "57859192-5949-49a8-fbde-f7eb76347593"
      },
      "source": [
        "print(alignments[1].score)"
      ],
      "execution_count": 16,
      "outputs": [
        {
          "output_type": "stream",
          "name": "stdout",
          "text": [
            "145.0\n"
          ]
        }
      ]
    },
    {
      "cell_type": "code",
      "metadata": {
        "id": "tuQeR-8XN26s"
      },
      "source": [
        "#Phylogenetic Tree\n",
        "from Bio.Phylo.TreeConstruction import DistanceCalculator, DistanceTreeConstructor"
      ],
      "execution_count": null,
      "outputs": []
    },
    {
      "cell_type": "code",
      "metadata": {
        "id": "0tME1ZjyN282"
      },
      "source": [
        "Distance = DistanceCalculator.get_distance()"
      ],
      "execution_count": null,
      "outputs": []
    },
    {
      "cell_type": "code",
      "metadata": {
        "id": "bNOMxUI1N2_A"
      },
      "source": [
        ""
      ],
      "execution_count": null,
      "outputs": []
    },
    {
      "cell_type": "code",
      "metadata": {
        "id": "Kulx4wYWN3BI"
      },
      "source": [
        ""
      ],
      "execution_count": null,
      "outputs": []
    },
    {
      "cell_type": "code",
      "metadata": {
        "id": "bKzODQcGN3Db"
      },
      "source": [
        ""
      ],
      "execution_count": null,
      "outputs": []
    },
    {
      "cell_type": "code",
      "metadata": {
        "id": "ouHgnQmsN3Ft"
      },
      "source": [
        ""
      ],
      "execution_count": 8,
      "outputs": []
    }
  ]
}