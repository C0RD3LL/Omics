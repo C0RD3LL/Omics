{
  "nbformat": 4,
  "nbformat_minor": 0,
  "metadata": {
    "colab": {
      "name": "covidpy.ipynb",
      "provenance": [],
      "authorship_tag": "ABX9TyMfajlRB5S/8F+RLPQr96ni",
      "include_colab_link": true
    },
    "kernelspec": {
      "name": "python3",
      "display_name": "Python 3"
    },
    "language_info": {
      "name": "python"
    }
  },
  "cells": [
    {
      "cell_type": "markdown",
      "metadata": {
        "id": "view-in-github",
        "colab_type": "text"
      },
      "source": [
        "<a href=\"https://colab.research.google.com/github/C0RD3LL/Omics/blob/main/covidpy.ipynb\" target=\"_parent\"><img src=\"https://colab.research.google.com/assets/colab-badge.svg\" alt=\"Open In Colab\"/></a>"
      ]
    },
    {
      "cell_type": "code",
      "metadata": {
        "colab": {
          "base_uri": "https://localhost:8080/"
        },
        "id": "ubLVRe9zLY4O",
        "outputId": "0e57b87f-29b9-40d6-ed4c-7c471e3c35e6"
      },
      "source": [
        "pip install biopython"
      ],
      "execution_count": null,
      "outputs": [
        {
          "output_type": "stream",
          "name": "stdout",
          "text": [
            "Requirement already satisfied: biopython in /usr/local/lib/python3.7/dist-packages (1.79)\n",
            "Requirement already satisfied: numpy in /usr/local/lib/python3.7/dist-packages (from biopython) (1.19.5)\n"
          ]
        }
      ]
    },
    {
      "cell_type": "code",
      "metadata": {
        "id": "gcyoWoCmN2zV"
      },
      "source": [
        "from Bio import SeqIO, Phylo, AlignIO\n",
        "import requests\n",
        "from io import StringIO"
      ],
      "execution_count": 84,
      "outputs": []
    },
    {
      "cell_type": "markdown",
      "metadata": {
        "id": "vTg1ZUnFc-fM"
      },
      "source": [
        "\n"
      ]
    },
    {
      "cell_type": "code",
      "metadata": {
        "id": "FiMJGdK9N22J"
      },
      "source": [
        "url = \"https://raw.githubusercontent.com/C0RD3LL/Omics/main/sequences.fasta\"\n",
        "response = requests.get(url).text\n",
        "data = SeqIO.parse(StringIO(response), \"fasta\")"
      ],
      "execution_count": 85,
      "outputs": []
    },
    {
      "cell_type": "code",
      "metadata": {
        "colab": {
          "base_uri": "https://localhost:8080/"
        },
        "id": "2Azx5qdOoRp9",
        "outputId": "32735669-a6ba-4638-aab4-32a1227d3639"
      },
      "source": [
        "humanurl = \"https://raw.githubusercontent.com/C0RD3LL/Omics/main/Data/HumanSARSV2\"\n",
        "humanrepo = requests.get(humanurl).text\n",
        "human = SeqIO.read(StringIO(humanrepo), \"fasta\")\n",
        "\n",
        "print(human)"
      ],
      "execution_count": 91,
      "outputs": [
        {
          "output_type": "stream",
          "name": "stdout",
          "text": [
            "ID: NC_045512.2\n",
            "Name: NC_045512.2\n",
            "Description: NC_045512.2 Severe acute respiratory syndrome coronavirus 2 isolate Wuhan-Hu-1, complete genome\n",
            "Number of features: 0\n",
            "Seq('ATTAAAGGTTTATACCTTCCCAGGTAACAAACCAACCAACTTTCGATCTCTTGT...AAA')\n",
            "<generator object FastaIterator.iterate at 0x7fc56c863ed0>\n"
          ]
        }
      ]
    },
    {
      "cell_type": "code",
      "metadata": {
        "id": "yYq3jutHN24s",
        "colab": {
          "base_uri": "https://localhost:8080/"
        },
        "outputId": "22cbfd6a-4303-46a4-fe3d-2ab0e3fd5b66"
      },
      "source": [
        "for x in SeqIO.parse(StringIO(response), \"fasta\"):\n",
        "  print(\"Seq len:\", len(x.seq), \" |Id:\", x.description)"
      ],
      "execution_count": 102,
      "outputs": [
        {
          "output_type": "stream",
          "name": "stdout",
          "text": [
            "Seq len: 25984  |Id: NC_048211.1 |Wencheng Sm shrew coronavirus isolate Xingguo-74 ORF1ab polyprotein, spike glycoprotein, envelope protein, membrane protein, and nucleocapsid protein genes, complete cds\n",
            "Seq len: 27754  |Id: NC_048214.1 |Duck coronavirus isolate DK/GD/27/2014, complete genome\n",
            "Seq len: 31393  |Id: NC_046954.1 |Rodent coronavirus isolate RtMruf-CoV-2/JL2014, complete genome\n",
            "Seq len: 27102  |Id: NC_046955.1 |Shrew coronavirus isolate Shrew-CoV/Tibet2014 ORF1ab polyprotein, spike glycoprotein, envelope protein, membrane protein, and nucleocapsid protein genes, complete cds\n",
            "Seq len: 29903  |Id: NC_045512.2 |Severe acute respiratory syndrome coronavirus 2 isolate Wuhan-Hu-1, complete genome\n",
            "Seq len: 25995  |Id: NC_035191.1 |Wencheng Sm shrew coronavirus isolate Xingguo-101 ORF1ab polyprotein, spike glycoprotein, envelope protein, membrane protein, and nucleocapsid protein genes, complete cds\n",
            "Seq len: 27682  |Id: NC_034972.1 |Coronavirus AcCoV-JC34, complete genome\n",
            "Seq len: 28763  |Id: NC_032730.1 |Lucheng Rn rat coronavirus isolate Lucheng-19, complete genome\n",
            "Seq len: 30161  |Id: NC_030886.1 |Rousettus bat coronavirus isolate GCCDC1 356, complete genome\n",
            "Seq len: 27935  |Id: NC_028811.1 |BtMr-AlphaCoV/SAX2011, complete genome\n",
            "Seq len: 27608  |Id: NC_028814.1 |BtRf-AlphaCoV/HuB2013, complete genome\n",
            "Seq len: 26975  |Id: NC_028824.1 |BtRf-AlphaCoV/YN2012, complete genome\n",
            "Seq len: 27783  |Id: NC_028833.1 |BtNv-AlphaCoV/SC2013, complete genome\n",
            "Seq len: 31249  |Id: NC_026011.1 |Betacoronavirus HKU24 strain HKU24-R05005I, complete genome\n",
            "Seq len: 31491  |Id: NC_025217.1 |Bat Hp-betacoronavirus/Zhejiang2013, complete genome\n",
            "Seq len: 28494  |Id: NC_018871.1 |Rousettus bat coronavirus HKU10, complete genome\n",
            "Seq len: 31100  |Id: NC_017083.1 |Rabbit coronavirus HKU14, complete genome\n"
          ]
        }
      ]
    },
    {
      "cell_type": "code",
      "metadata": {
        "id": "NCAD5Mult6pl"
      },
      "source": [
        ""
      ],
      "execution_count": null,
      "outputs": []
    },
    {
      "cell_type": "code",
      "metadata": {
        "id": "tuQeR-8XN26s"
      },
      "source": [
        "#Phylogenetic Tree\n",
        "from Bio.Phylo.TreeConstruction import DistanceCalculator, DistanceTreeConstructor"
      ],
      "execution_count": 87,
      "outputs": []
    },
    {
      "cell_type": "code",
      "metadata": {
        "id": "0tME1ZjyN282"
      },
      "source": [
        "Distance = DistanceCalculator.get_distance()"
      ],
      "execution_count": null,
      "outputs": []
    },
    {
      "cell_type": "code",
      "metadata": {
        "id": "bNOMxUI1N2_A"
      },
      "source": [
        ""
      ],
      "execution_count": null,
      "outputs": []
    },
    {
      "cell_type": "code",
      "metadata": {
        "id": "Kulx4wYWN3BI"
      },
      "source": [
        ""
      ],
      "execution_count": null,
      "outputs": []
    },
    {
      "cell_type": "code",
      "metadata": {
        "id": "bKzODQcGN3Db"
      },
      "source": [
        ""
      ],
      "execution_count": null,
      "outputs": []
    },
    {
      "cell_type": "code",
      "metadata": {
        "id": "ouHgnQmsN3Ft"
      },
      "source": [
        ""
      ],
      "execution_count": null,
      "outputs": []
    }
  ]
}