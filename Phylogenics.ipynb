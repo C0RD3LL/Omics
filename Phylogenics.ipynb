{
  "nbformat": 4,
  "nbformat_minor": 0,
  "metadata": {
    "colab": {
      "name": "Phylogenics.ipynb",
      "provenance": [],
      "collapsed_sections": [],
      "authorship_tag": "ABX9TyMlifLq1Q1sPngJBtLZQKei",
      "include_colab_link": true
    },
    "kernelspec": {
      "name": "ir",
      "display_name": "R"
    },
    "language_info": {
      "name": "R"
    }
  },
  "cells": [
    {
      "cell_type": "markdown",
      "metadata": {
        "id": "view-in-github",
        "colab_type": "text"
      },
      "source": [
        "<a href=\"https://colab.research.google.com/github/C0RD3LL/Omics/blob/main/Phylogenics.ipynb\" target=\"_parent\"><img src=\"https://colab.research.google.com/assets/colab-badge.svg\" alt=\"Open In Colab\"/></a>"
      ]
    },
    {
      "cell_type": "code",
      "metadata": {
        "id": "7JszyUNzh4ec"
      },
      "source": [
        "if (!requireNamespace(\"BiocManager\", quietly = TRUE))\n",
        "    install.packages(\"BiocManager\")\n",
        "\n",
        "BiocManager::install(c((\"DECIPHER\"),(\"Biostrings\"),(\"phyloseq\")))"
      ],
      "execution_count": null,
      "outputs": []
    },
    {
      "cell_type": "code",
      "metadata": {
        "colab": {
          "base_uri": "https://localhost:8080/"
        },
        "id": "pofLES7clp6C",
        "outputId": "7c33bddc-4a00-45dc-ec5e-30569ab6e86a"
      },
      "source": [
        "install.packages(c((\"ggplot2\"),(\"dplyr\"),(\"ape\")))"
      ],
      "execution_count": null,
      "outputs": [
        {
          "output_type": "stream",
          "name": "stderr",
          "text": [
            "Installing packages into ‘/usr/local/lib/R/site-library’\n",
            "(as ‘lib’ is unspecified)\n",
            "\n"
          ]
        }
      ]
    },
    {
      "cell_type": "code",
      "metadata": {
        "id": "jzEhRcA2h-ya"
      },
      "source": [
        "library(\"phyloseq\")\n",
        "library(\"ggplot2\")\n",
        "library(\"dplyr\")\n",
        "suppressMessages(library(\"DECIPHER\"))\n",
        "suppressMessages(library(\"Biostrings\"))\n",
        "suppressMessages(library(\"phyloseq\"))\n",
        "suppressMessages(library(\"ade4\"))\n",
        "suppressMessages(library(\"ape\"))"
      ],
      "execution_count": 20,
      "outputs": []
    },
    {
      "cell_type": "code",
      "metadata": {
        "id": "kVCDeG21h-1A"
      },
      "source": [
        "#Import all Data\n",
        "otu_mat<- read.table(\"https://raw.githubusercontent.com/pine-bio-support/Metagenomics-3/master/Acne_Amplicon_Abundance_table.txt\", header = TRUE, sep = \"\\t\")\n",
        "tax_mat<- read.table(\"https://raw.githubusercontent.com/pine-bio-support/Metagenomics-3/master/Acne_Taxonomy_table.txt\", header = TRUE, sep = \"\\t\")\n",
        "samples_df <- read.table(\"https://raw.githubusercontent.com/pine-bio-support/Metagenomics-3/master/Acne_SupplementaryTable.txt\", header = TRUE, sep = \"\\t\")\n",
        "\n",
        "DNAseq <- readDNAStringSet(\"https://raw.githubusercontent.com/pine-bio-support/DNA-sequences/main/sample.fna\")\n",
        "Unknown <- read.dna(file = \"https://code.omicslogic.com/resources/FD5Z\", format = \"fasta\")\n"
      ],
      "execution_count": 21,
      "outputs": []
    },
    {
      "cell_type": "markdown",
      "metadata": {
        "id": "DhqH9-xXjTrp"
      },
      "source": [
        "What is an otu? What is tax_mat?"
      ]
    },
    {
      "cell_type": "code",
      "metadata": {
        "id": "ikUJ9v7Xh-3o"
      },
      "source": [
        "#dist.dna computes a matrix of pairwise distances from DNA sequences using \n",
        "#a model of DNA evolution. Eleven substitution models (and the raw distance) are \n",
        "#currently available. model = \"TN93\" is used for this one \n",
        "Dist <- dist.dna(Unknown, model = \"TN93\")\n",
        "#TN93 - amura and Nei (1993) developed a model which assumes distinct rates for \n",
        "#both kinds of transition (A <-> G versus C <-> T), and transversions. \n",
        "#The base frequencies are not assumed to be equal and are estimated from the data. \n",
        "#A gamma correction of the inter-site variation in substitution rates is possible."
      ],
      "execution_count": 28,
      "outputs": []
    },
    {
      "cell_type": "code",
      "metadata": {
        "id": "gBgg7t33h-6P"
      },
      "source": [
        ""
      ],
      "execution_count": null,
      "outputs": []
    },
    {
      "cell_type": "code",
      "metadata": {
        "id": "DM04i-r3h-8q"
      },
      "source": [
        ""
      ],
      "execution_count": null,
      "outputs": []
    },
    {
      "cell_type": "code",
      "metadata": {
        "id": "ZFVcWwdih-_O"
      },
      "source": [
        ""
      ],
      "execution_count": null,
      "outputs": []
    },
    {
      "cell_type": "code",
      "metadata": {
        "id": "uxGBMyGth_Bn"
      },
      "source": [
        ""
      ],
      "execution_count": null,
      "outputs": []
    },
    {
      "cell_type": "markdown",
      "metadata": {
        "id": "-eVim3aWi7B9"
      },
      "source": [
        "Get a view of the data..."
      ]
    },
    {
      "cell_type": "code",
      "metadata": {
        "id": "IQvpn_6Sh_EK",
        "colab": {
          "base_uri": "https://localhost:8080/"
        },
        "outputId": "d0916ae6-68b4-4b7f-875a-8874c0e82d43"
      },
      "source": [
        "print(Unknown)"
      ],
      "execution_count": 24,
      "outputs": [
        {
          "output_type": "stream",
          "name": "stdout",
          "text": [
            "40 DNA sequences in binary format stored in a matrix.\n",
            "\n",
            "All sequences of same length: 1701 \n",
            "\n",
            "Labels:\n",
            "CY013200\n",
            "CY013781\n",
            "CY012128\n",
            "CY013613\n",
            "CY012160\n",
            "CY012272\n",
            "...\n",
            "\n",
            "Base composition:\n",
            "    a     c     g     t \n",
            "0.333 0.201 0.227 0.239 \n",
            "(Total: 68.04 kb)\n"
          ]
        }
      ]
    },
    {
      "cell_type": "code",
      "metadata": {
        "colab": {
          "base_uri": "https://localhost:8080/",
          "height": 1000
        },
        "id": "J-CaFhPGh_Gz",
        "outputId": "9f334c39-73b3-491a-b762-f51c04dd5076"
      },
      "source": [
        "sample_n(otu_mat,10)\n",
        "sample_n(tax_mat,10)\n",
        "sample_n(samples_df,10)"
      ],
      "execution_count": null,
      "outputs": [
        {
          "output_type": "display_data",
          "data": {
            "text/plain": [
              "   OTUs     SRR11961372 SRR11961374 SRR11961376 SRR11961380 SRR11961381\n",
              "1  OTU_1518 0            0          0             0         0          \n",
              "2  OTU_73   0            0          7             0         0          \n",
              "3  OTU_459  0           52          0             0         0          \n",
              "4  OTU_724  0            0          0             0         0          \n",
              "5  OTU_816  0            0          0             0         0          \n",
              "6  OTU_2350 0            0          0             0         0          \n",
              "7  OTU_1553 0            0          0             0         0          \n",
              "8  OTU_2341 0            0          0             0         0          \n",
              "9  OTU_33   0           17          0           262         0          \n",
              "10 OTU_1662 0            0          0             0         0          \n",
              "   SRR11961383 SRR11961389 SRR11961391 SRR11961392 ⋯ SRR11961413 SRR11961425\n",
              "1    0           0            0         0          ⋯  0          0          \n",
              "2    0         824           93         0          ⋯  0          0          \n",
              "3    0           0            0         0          ⋯  0          0          \n",
              "4    0          27            0         0          ⋯  0          0          \n",
              "5    0           0            0         0          ⋯  0          0          \n",
              "6    0           0            0         0          ⋯  0          0          \n",
              "7    0           0            0         0          ⋯  0          0          \n",
              "8    0           0            0         0          ⋯  0          0          \n",
              "9  122         194         1037        31          ⋯ 39          0          \n",
              "10   0           0            0         0          ⋯  0          0          \n",
              "   SRR11961436 SRR11961446 SRR11961448 SRR11961452 SRR11961453 SRR11961457\n",
              "1    0         0           0            0          0            0         \n",
              "2    0         0           0           64          0            0         \n",
              "3    0         0           0            0          0            0         \n",
              "4    0         0           0            0          0            0         \n",
              "5    0         0           0            0          0            0         \n",
              "6    0         0           0            0          0            0         \n",
              "7    0         0           0            0          0            0         \n",
              "8    0         0           0            0          0            0         \n",
              "9  228         0           0           29          0           16         \n",
              "10   0         0           0            0          0            0         \n",
              "   SRR11961458 SRR11961459\n",
              "1  0           0          \n",
              "2  0           0          \n",
              "3  0           0          \n",
              "4  0           0          \n",
              "5  0           0          \n",
              "6  0           0          \n",
              "7  0           0          \n",
              "8  0           0          \n",
              "9  0           0          \n",
              "10 0           0          "
            ],
            "text/latex": "A data.frame: 10 × 27\n\\begin{tabular}{lllllllllllllllllllll}\n OTUs & SRR11961372 & SRR11961374 & SRR11961376 & SRR11961380 & SRR11961381 & SRR11961383 & SRR11961389 & SRR11961391 & SRR11961392 & ⋯ & SRR11961413 & SRR11961425 & SRR11961436 & SRR11961446 & SRR11961448 & SRR11961452 & SRR11961453 & SRR11961457 & SRR11961458 & SRR11961459\\\\\n <chr> & <int> & <int> & <int> & <int> & <int> & <int> & <int> & <int> & <int> & ⋯ & <int> & <int> & <int> & <int> & <int> & <int> & <int> & <int> & <int> & <int>\\\\\n\\hline\n\t OTU\\_1518 & 0 &  0 & 0 &   0 & 0 &   0 &   0 &    0 &  0 & ⋯ &  0 & 0 &   0 & 0 & 0 &  0 & 0 &  0 & 0 & 0\\\\\n\t OTU\\_73   & 0 &  0 & 7 &   0 & 0 &   0 & 824 &   93 &  0 & ⋯ &  0 & 0 &   0 & 0 & 0 & 64 & 0 &  0 & 0 & 0\\\\\n\t OTU\\_459  & 0 & 52 & 0 &   0 & 0 &   0 &   0 &    0 &  0 & ⋯ &  0 & 0 &   0 & 0 & 0 &  0 & 0 &  0 & 0 & 0\\\\\n\t OTU\\_724  & 0 &  0 & 0 &   0 & 0 &   0 &  27 &    0 &  0 & ⋯ &  0 & 0 &   0 & 0 & 0 &  0 & 0 &  0 & 0 & 0\\\\\n\t OTU\\_816  & 0 &  0 & 0 &   0 & 0 &   0 &   0 &    0 &  0 & ⋯ &  0 & 0 &   0 & 0 & 0 &  0 & 0 &  0 & 0 & 0\\\\\n\t OTU\\_2350 & 0 &  0 & 0 &   0 & 0 &   0 &   0 &    0 &  0 & ⋯ &  0 & 0 &   0 & 0 & 0 &  0 & 0 &  0 & 0 & 0\\\\\n\t OTU\\_1553 & 0 &  0 & 0 &   0 & 0 &   0 &   0 &    0 &  0 & ⋯ &  0 & 0 &   0 & 0 & 0 &  0 & 0 &  0 & 0 & 0\\\\\n\t OTU\\_2341 & 0 &  0 & 0 &   0 & 0 &   0 &   0 &    0 &  0 & ⋯ &  0 & 0 &   0 & 0 & 0 &  0 & 0 &  0 & 0 & 0\\\\\n\t OTU\\_33   & 0 & 17 & 0 & 262 & 0 & 122 & 194 & 1037 & 31 & ⋯ & 39 & 0 & 228 & 0 & 0 & 29 & 0 & 16 & 0 & 0\\\\\n\t OTU\\_1662 & 0 &  0 & 0 &   0 & 0 &   0 &   0 &    0 &  0 & ⋯ &  0 & 0 &   0 & 0 & 0 &  0 & 0 &  0 & 0 & 0\\\\\n\\end{tabular}\n",
            "text/markdown": "\nA data.frame: 10 × 27\n\n| OTUs &lt;chr&gt; | SRR11961372 &lt;int&gt; | SRR11961374 &lt;int&gt; | SRR11961376 &lt;int&gt; | SRR11961380 &lt;int&gt; | SRR11961381 &lt;int&gt; | SRR11961383 &lt;int&gt; | SRR11961389 &lt;int&gt; | SRR11961391 &lt;int&gt; | SRR11961392 &lt;int&gt; | ⋯ ⋯ | SRR11961413 &lt;int&gt; | SRR11961425 &lt;int&gt; | SRR11961436 &lt;int&gt; | SRR11961446 &lt;int&gt; | SRR11961448 &lt;int&gt; | SRR11961452 &lt;int&gt; | SRR11961453 &lt;int&gt; | SRR11961457 &lt;int&gt; | SRR11961458 &lt;int&gt; | SRR11961459 &lt;int&gt; |\n|---|---|---|---|---|---|---|---|---|---|---|---|---|---|---|---|---|---|---|---|---|\n| OTU_1518 | 0 |  0 | 0 |   0 | 0 |   0 |   0 |    0 |  0 | ⋯ |  0 | 0 |   0 | 0 | 0 |  0 | 0 |  0 | 0 | 0 |\n| OTU_73   | 0 |  0 | 7 |   0 | 0 |   0 | 824 |   93 |  0 | ⋯ |  0 | 0 |   0 | 0 | 0 | 64 | 0 |  0 | 0 | 0 |\n| OTU_459  | 0 | 52 | 0 |   0 | 0 |   0 |   0 |    0 |  0 | ⋯ |  0 | 0 |   0 | 0 | 0 |  0 | 0 |  0 | 0 | 0 |\n| OTU_724  | 0 |  0 | 0 |   0 | 0 |   0 |  27 |    0 |  0 | ⋯ |  0 | 0 |   0 | 0 | 0 |  0 | 0 |  0 | 0 | 0 |\n| OTU_816  | 0 |  0 | 0 |   0 | 0 |   0 |   0 |    0 |  0 | ⋯ |  0 | 0 |   0 | 0 | 0 |  0 | 0 |  0 | 0 | 0 |\n| OTU_2350 | 0 |  0 | 0 |   0 | 0 |   0 |   0 |    0 |  0 | ⋯ |  0 | 0 |   0 | 0 | 0 |  0 | 0 |  0 | 0 | 0 |\n| OTU_1553 | 0 |  0 | 0 |   0 | 0 |   0 |   0 |    0 |  0 | ⋯ |  0 | 0 |   0 | 0 | 0 |  0 | 0 |  0 | 0 | 0 |\n| OTU_2341 | 0 |  0 | 0 |   0 | 0 |   0 |   0 |    0 |  0 | ⋯ |  0 | 0 |   0 | 0 | 0 |  0 | 0 |  0 | 0 | 0 |\n| OTU_33   | 0 | 17 | 0 | 262 | 0 | 122 | 194 | 1037 | 31 | ⋯ | 39 | 0 | 228 | 0 | 0 | 29 | 0 | 16 | 0 | 0 |\n| OTU_1662 | 0 |  0 | 0 |   0 | 0 |   0 |   0 |    0 |  0 | ⋯ |  0 | 0 |   0 | 0 | 0 |  0 | 0 |  0 | 0 | 0 |\n\n",
            "text/html": [
              "<table class=\"dataframe\">\n",
              "<caption>A data.frame: 10 × 27</caption>\n",
              "<thead>\n",
              "\t<tr><th scope=col>OTUs</th><th scope=col>SRR11961372</th><th scope=col>SRR11961374</th><th scope=col>SRR11961376</th><th scope=col>SRR11961380</th><th scope=col>SRR11961381</th><th scope=col>SRR11961383</th><th scope=col>SRR11961389</th><th scope=col>SRR11961391</th><th scope=col>SRR11961392</th><th scope=col>⋯</th><th scope=col>SRR11961413</th><th scope=col>SRR11961425</th><th scope=col>SRR11961436</th><th scope=col>SRR11961446</th><th scope=col>SRR11961448</th><th scope=col>SRR11961452</th><th scope=col>SRR11961453</th><th scope=col>SRR11961457</th><th scope=col>SRR11961458</th><th scope=col>SRR11961459</th></tr>\n",
              "\t<tr><th scope=col>&lt;chr&gt;</th><th scope=col>&lt;int&gt;</th><th scope=col>&lt;int&gt;</th><th scope=col>&lt;int&gt;</th><th scope=col>&lt;int&gt;</th><th scope=col>&lt;int&gt;</th><th scope=col>&lt;int&gt;</th><th scope=col>&lt;int&gt;</th><th scope=col>&lt;int&gt;</th><th scope=col>&lt;int&gt;</th><th scope=col>⋯</th><th scope=col>&lt;int&gt;</th><th scope=col>&lt;int&gt;</th><th scope=col>&lt;int&gt;</th><th scope=col>&lt;int&gt;</th><th scope=col>&lt;int&gt;</th><th scope=col>&lt;int&gt;</th><th scope=col>&lt;int&gt;</th><th scope=col>&lt;int&gt;</th><th scope=col>&lt;int&gt;</th><th scope=col>&lt;int&gt;</th></tr>\n",
              "</thead>\n",
              "<tbody>\n",
              "\t<tr><td>OTU_1518</td><td>0</td><td> 0</td><td>0</td><td>  0</td><td>0</td><td>  0</td><td>  0</td><td>   0</td><td> 0</td><td>⋯</td><td> 0</td><td>0</td><td>  0</td><td>0</td><td>0</td><td> 0</td><td>0</td><td> 0</td><td>0</td><td>0</td></tr>\n",
              "\t<tr><td>OTU_73  </td><td>0</td><td> 0</td><td>7</td><td>  0</td><td>0</td><td>  0</td><td>824</td><td>  93</td><td> 0</td><td>⋯</td><td> 0</td><td>0</td><td>  0</td><td>0</td><td>0</td><td>64</td><td>0</td><td> 0</td><td>0</td><td>0</td></tr>\n",
              "\t<tr><td>OTU_459 </td><td>0</td><td>52</td><td>0</td><td>  0</td><td>0</td><td>  0</td><td>  0</td><td>   0</td><td> 0</td><td>⋯</td><td> 0</td><td>0</td><td>  0</td><td>0</td><td>0</td><td> 0</td><td>0</td><td> 0</td><td>0</td><td>0</td></tr>\n",
              "\t<tr><td>OTU_724 </td><td>0</td><td> 0</td><td>0</td><td>  0</td><td>0</td><td>  0</td><td> 27</td><td>   0</td><td> 0</td><td>⋯</td><td> 0</td><td>0</td><td>  0</td><td>0</td><td>0</td><td> 0</td><td>0</td><td> 0</td><td>0</td><td>0</td></tr>\n",
              "\t<tr><td>OTU_816 </td><td>0</td><td> 0</td><td>0</td><td>  0</td><td>0</td><td>  0</td><td>  0</td><td>   0</td><td> 0</td><td>⋯</td><td> 0</td><td>0</td><td>  0</td><td>0</td><td>0</td><td> 0</td><td>0</td><td> 0</td><td>0</td><td>0</td></tr>\n",
              "\t<tr><td>OTU_2350</td><td>0</td><td> 0</td><td>0</td><td>  0</td><td>0</td><td>  0</td><td>  0</td><td>   0</td><td> 0</td><td>⋯</td><td> 0</td><td>0</td><td>  0</td><td>0</td><td>0</td><td> 0</td><td>0</td><td> 0</td><td>0</td><td>0</td></tr>\n",
              "\t<tr><td>OTU_1553</td><td>0</td><td> 0</td><td>0</td><td>  0</td><td>0</td><td>  0</td><td>  0</td><td>   0</td><td> 0</td><td>⋯</td><td> 0</td><td>0</td><td>  0</td><td>0</td><td>0</td><td> 0</td><td>0</td><td> 0</td><td>0</td><td>0</td></tr>\n",
              "\t<tr><td>OTU_2341</td><td>0</td><td> 0</td><td>0</td><td>  0</td><td>0</td><td>  0</td><td>  0</td><td>   0</td><td> 0</td><td>⋯</td><td> 0</td><td>0</td><td>  0</td><td>0</td><td>0</td><td> 0</td><td>0</td><td> 0</td><td>0</td><td>0</td></tr>\n",
              "\t<tr><td>OTU_33  </td><td>0</td><td>17</td><td>0</td><td>262</td><td>0</td><td>122</td><td>194</td><td>1037</td><td>31</td><td>⋯</td><td>39</td><td>0</td><td>228</td><td>0</td><td>0</td><td>29</td><td>0</td><td>16</td><td>0</td><td>0</td></tr>\n",
              "\t<tr><td>OTU_1662</td><td>0</td><td> 0</td><td>0</td><td>  0</td><td>0</td><td>  0</td><td>  0</td><td>   0</td><td> 0</td><td>⋯</td><td> 0</td><td>0</td><td>  0</td><td>0</td><td>0</td><td> 0</td><td>0</td><td> 0</td><td>0</td><td>0</td></tr>\n",
              "</tbody>\n",
              "</table>\n"
            ]
          },
          "metadata": {}
        },
        {
          "output_type": "display_data",
          "data": {
            "text/plain": [
              "   class    Kingdom  Phylum         Class               Order              \n",
              "1  OTU_2160 Bacteria Actinobacteria Actinobacteria      Propionibacteriales\n",
              "2  OTU_2228 Bacteria Proteobacteria Betaproteobacteria  Neisseriales       \n",
              "3  OTU_838  Bacteria Actinobacteria Actinobacteria      Propionibacteriales\n",
              "4  OTU_2168 Bacteria Proteobacteria Alphaproteobacteria Rhodobacterales    \n",
              "5  OTU_1378 Bacteria Acidobacteria  Acidobacteria       Acidobacteriales   \n",
              "6  OTU_644  Bacteria Proteobacteria NA                  NA                 \n",
              "7  OTU_1674 Bacteria Firmicutes     Clostridia          Clostridiales      \n",
              "8  OTU_550  Bacteria Firmicutes     Bacilli             Bacillales         \n",
              "9  OTU_688  Bacteria Firmicutes     Bacilli             Lactobacillales    \n",
              "10 OTU_1323 Bacteria Firmicutes     Bacilli             Lactobacillales    \n",
              "   Family                         Genus             Species      \n",
              "1  Propionibacteriaceae           Propionibacterium NA           \n",
              "2  Neisseriaceae                  NA                NA           \n",
              "3  Propionibacteriaceae           Friedmanniella    NA           \n",
              "4  Rhodobacteraceae               Albirhodobacter   NA           \n",
              "5  Acidobacteriaceae_(Subgroup_1) Terriglobus       NA           \n",
              "6  NA                             NA                NA           \n",
              "7  Family_XI                      Peptoniphilus     NA           \n",
              "8  Staphylococcaceae              Staphylococcus    NA           \n",
              "9  Leuconostocaceae               Leuconostoc       mesenteroides\n",
              "10 Streptococcaceae               Streptococcus     NA           "
            ],
            "text/latex": "A data.frame: 10 × 8\n\\begin{tabular}{llllllll}\n class & Kingdom & Phylum & Class & Order & Family & Genus & Species\\\\\n <chr> & <chr> & <chr> & <chr> & <chr> & <chr> & <chr> & <chr>\\\\\n\\hline\n\t OTU\\_2160 & Bacteria & Actinobacteria & Actinobacteria      & Propionibacteriales & Propionibacteriaceae           & Propionibacterium & NA           \\\\\n\t OTU\\_2228 & Bacteria & Proteobacteria & Betaproteobacteria  & Neisseriales        & Neisseriaceae                  & NA                & NA           \\\\\n\t OTU\\_838  & Bacteria & Actinobacteria & Actinobacteria      & Propionibacteriales & Propionibacteriaceae           & Friedmanniella    & NA           \\\\\n\t OTU\\_2168 & Bacteria & Proteobacteria & Alphaproteobacteria & Rhodobacterales     & Rhodobacteraceae               & Albirhodobacter   & NA           \\\\\n\t OTU\\_1378 & Bacteria & Acidobacteria  & Acidobacteria       & Acidobacteriales    & Acidobacteriaceae\\_(Subgroup\\_1) & Terriglobus       & NA           \\\\\n\t OTU\\_644  & Bacteria & Proteobacteria & NA                  & NA                  & NA                             & NA                & NA           \\\\\n\t OTU\\_1674 & Bacteria & Firmicutes     & Clostridia          & Clostridiales       & Family\\_XI                      & Peptoniphilus     & NA           \\\\\n\t OTU\\_550  & Bacteria & Firmicutes     & Bacilli             & Bacillales          & Staphylococcaceae              & Staphylococcus    & NA           \\\\\n\t OTU\\_688  & Bacteria & Firmicutes     & Bacilli             & Lactobacillales     & Leuconostocaceae               & Leuconostoc       & mesenteroides\\\\\n\t OTU\\_1323 & Bacteria & Firmicutes     & Bacilli             & Lactobacillales     & Streptococcaceae               & Streptococcus     & NA           \\\\\n\\end{tabular}\n",
            "text/markdown": "\nA data.frame: 10 × 8\n\n| class &lt;chr&gt; | Kingdom &lt;chr&gt; | Phylum &lt;chr&gt; | Class &lt;chr&gt; | Order &lt;chr&gt; | Family &lt;chr&gt; | Genus &lt;chr&gt; | Species &lt;chr&gt; |\n|---|---|---|---|---|---|---|---|\n| OTU_2160 | Bacteria | Actinobacteria | Actinobacteria      | Propionibacteriales | Propionibacteriaceae           | Propionibacterium | NA            |\n| OTU_2228 | Bacteria | Proteobacteria | Betaproteobacteria  | Neisseriales        | Neisseriaceae                  | NA                | NA            |\n| OTU_838  | Bacteria | Actinobacteria | Actinobacteria      | Propionibacteriales | Propionibacteriaceae           | Friedmanniella    | NA            |\n| OTU_2168 | Bacteria | Proteobacteria | Alphaproteobacteria | Rhodobacterales     | Rhodobacteraceae               | Albirhodobacter   | NA            |\n| OTU_1378 | Bacteria | Acidobacteria  | Acidobacteria       | Acidobacteriales    | Acidobacteriaceae_(Subgroup_1) | Terriglobus       | NA            |\n| OTU_644  | Bacteria | Proteobacteria | NA                  | NA                  | NA                             | NA                | NA            |\n| OTU_1674 | Bacteria | Firmicutes     | Clostridia          | Clostridiales       | Family_XI                      | Peptoniphilus     | NA            |\n| OTU_550  | Bacteria | Firmicutes     | Bacilli             | Bacillales          | Staphylococcaceae              | Staphylococcus    | NA            |\n| OTU_688  | Bacteria | Firmicutes     | Bacilli             | Lactobacillales     | Leuconostocaceae               | Leuconostoc       | mesenteroides |\n| OTU_1323 | Bacteria | Firmicutes     | Bacilli             | Lactobacillales     | Streptococcaceae               | Streptococcus     | NA            |\n\n",
            "text/html": [
              "<table class=\"dataframe\">\n",
              "<caption>A data.frame: 10 × 8</caption>\n",
              "<thead>\n",
              "\t<tr><th scope=col>class</th><th scope=col>Kingdom</th><th scope=col>Phylum</th><th scope=col>Class</th><th scope=col>Order</th><th scope=col>Family</th><th scope=col>Genus</th><th scope=col>Species</th></tr>\n",
              "\t<tr><th scope=col>&lt;chr&gt;</th><th scope=col>&lt;chr&gt;</th><th scope=col>&lt;chr&gt;</th><th scope=col>&lt;chr&gt;</th><th scope=col>&lt;chr&gt;</th><th scope=col>&lt;chr&gt;</th><th scope=col>&lt;chr&gt;</th><th scope=col>&lt;chr&gt;</th></tr>\n",
              "</thead>\n",
              "<tbody>\n",
              "\t<tr><td>OTU_2160</td><td>Bacteria</td><td>Actinobacteria</td><td>Actinobacteria     </td><td>Propionibacteriales</td><td>Propionibacteriaceae          </td><td>Propionibacterium</td><td>NA           </td></tr>\n",
              "\t<tr><td>OTU_2228</td><td>Bacteria</td><td>Proteobacteria</td><td>Betaproteobacteria </td><td>Neisseriales       </td><td>Neisseriaceae                 </td><td>NA               </td><td>NA           </td></tr>\n",
              "\t<tr><td>OTU_838 </td><td>Bacteria</td><td>Actinobacteria</td><td>Actinobacteria     </td><td>Propionibacteriales</td><td>Propionibacteriaceae          </td><td>Friedmanniella   </td><td>NA           </td></tr>\n",
              "\t<tr><td>OTU_2168</td><td>Bacteria</td><td>Proteobacteria</td><td>Alphaproteobacteria</td><td>Rhodobacterales    </td><td>Rhodobacteraceae              </td><td>Albirhodobacter  </td><td>NA           </td></tr>\n",
              "\t<tr><td>OTU_1378</td><td>Bacteria</td><td>Acidobacteria </td><td>Acidobacteria      </td><td>Acidobacteriales   </td><td>Acidobacteriaceae_(Subgroup_1)</td><td>Terriglobus      </td><td>NA           </td></tr>\n",
              "\t<tr><td>OTU_644 </td><td>Bacteria</td><td>Proteobacteria</td><td>NA                 </td><td>NA                 </td><td>NA                            </td><td>NA               </td><td>NA           </td></tr>\n",
              "\t<tr><td>OTU_1674</td><td>Bacteria</td><td>Firmicutes    </td><td>Clostridia         </td><td>Clostridiales      </td><td>Family_XI                     </td><td>Peptoniphilus    </td><td>NA           </td></tr>\n",
              "\t<tr><td>OTU_550 </td><td>Bacteria</td><td>Firmicutes    </td><td>Bacilli            </td><td>Bacillales         </td><td>Staphylococcaceae             </td><td>Staphylococcus   </td><td>NA           </td></tr>\n",
              "\t<tr><td>OTU_688 </td><td>Bacteria</td><td>Firmicutes    </td><td>Bacilli            </td><td>Lactobacillales    </td><td>Leuconostocaceae              </td><td>Leuconostoc      </td><td>mesenteroides</td></tr>\n",
              "\t<tr><td>OTU_1323</td><td>Bacteria</td><td>Firmicutes    </td><td>Bacilli            </td><td>Lactobacillales    </td><td>Streptococcaceae              </td><td>Streptococcus    </td><td>NA           </td></tr>\n",
              "</tbody>\n",
              "</table>\n"
            ]
          },
          "metadata": {}
        },
        {
          "output_type": "display_data",
          "data": {
            "text/plain": [
              "   Run         Dermatology_Disord  copy               \n",
              "1  SRR11961372 none                none               \n",
              "2  SRR11961383 perioral_dermatitis perioral_dermatitis\n",
              "3  SRR11961391 perioral_dermatitis perioral_dermatitis\n",
              "4  SRR11961381 none                none               \n",
              "5  SRR11961394 perioral_dermatitis perioral_dermatitis\n",
              "6  SRR11961459 none                none               \n",
              "7  SRR11961458 none                none               \n",
              "8  SRR11961457 none                none               \n",
              "9  SRR11961407 perioral_dermatitis perioral_dermatitis\n",
              "10 SRR11961402 adult_acne          adult_acne         "
            ],
            "text/latex": "A data.frame: 10 × 3\n\\begin{tabular}{lll}\n Run & Dermatology\\_Disord & copy\\\\\n <chr> & <chr> & <chr>\\\\\n\\hline\n\t SRR11961372 & none                & none               \\\\\n\t SRR11961383 & perioral\\_dermatitis & perioral\\_dermatitis\\\\\n\t SRR11961391 & perioral\\_dermatitis & perioral\\_dermatitis\\\\\n\t SRR11961381 & none                & none               \\\\\n\t SRR11961394 & perioral\\_dermatitis & perioral\\_dermatitis\\\\\n\t SRR11961459 & none                & none               \\\\\n\t SRR11961458 & none                & none               \\\\\n\t SRR11961457 & none                & none               \\\\\n\t SRR11961407 & perioral\\_dermatitis & perioral\\_dermatitis\\\\\n\t SRR11961402 & adult\\_acne          & adult\\_acne         \\\\\n\\end{tabular}\n",
            "text/markdown": "\nA data.frame: 10 × 3\n\n| Run &lt;chr&gt; | Dermatology_Disord &lt;chr&gt; | copy &lt;chr&gt; |\n|---|---|---|\n| SRR11961372 | none                | none                |\n| SRR11961383 | perioral_dermatitis | perioral_dermatitis |\n| SRR11961391 | perioral_dermatitis | perioral_dermatitis |\n| SRR11961381 | none                | none                |\n| SRR11961394 | perioral_dermatitis | perioral_dermatitis |\n| SRR11961459 | none                | none                |\n| SRR11961458 | none                | none                |\n| SRR11961457 | none                | none                |\n| SRR11961407 | perioral_dermatitis | perioral_dermatitis |\n| SRR11961402 | adult_acne          | adult_acne          |\n\n",
            "text/html": [
              "<table class=\"dataframe\">\n",
              "<caption>A data.frame: 10 × 3</caption>\n",
              "<thead>\n",
              "\t<tr><th scope=col>Run</th><th scope=col>Dermatology_Disord</th><th scope=col>copy</th></tr>\n",
              "\t<tr><th scope=col>&lt;chr&gt;</th><th scope=col>&lt;chr&gt;</th><th scope=col>&lt;chr&gt;</th></tr>\n",
              "</thead>\n",
              "<tbody>\n",
              "\t<tr><td>SRR11961372</td><td>none               </td><td>none               </td></tr>\n",
              "\t<tr><td>SRR11961383</td><td>perioral_dermatitis</td><td>perioral_dermatitis</td></tr>\n",
              "\t<tr><td>SRR11961391</td><td>perioral_dermatitis</td><td>perioral_dermatitis</td></tr>\n",
              "\t<tr><td>SRR11961381</td><td>none               </td><td>none               </td></tr>\n",
              "\t<tr><td>SRR11961394</td><td>perioral_dermatitis</td><td>perioral_dermatitis</td></tr>\n",
              "\t<tr><td>SRR11961459</td><td>none               </td><td>none               </td></tr>\n",
              "\t<tr><td>SRR11961458</td><td>none               </td><td>none               </td></tr>\n",
              "\t<tr><td>SRR11961457</td><td>none               </td><td>none               </td></tr>\n",
              "\t<tr><td>SRR11961407</td><td>perioral_dermatitis</td><td>perioral_dermatitis</td></tr>\n",
              "\t<tr><td>SRR11961402</td><td>adult_acne         </td><td>adult_acne         </td></tr>\n",
              "</tbody>\n",
              "</table>\n"
            ]
          },
          "metadata": {}
        }
      ]
    },
    {
      "cell_type": "code",
      "metadata": {
        "colab": {
          "base_uri": "https://localhost:8080/"
        },
        "id": "YYD7PdCQn7CX",
        "outputId": "6dc36fa0-058b-49a8-a2de-b2eeeb2b5446"
      },
      "source": [
        "print(DNAseqf)"
      ],
      "execution_count": null,
      "outputs": [
        {
          "output_type": "stream",
          "name": "stdout",
          "text": [
            "DNAStringSet object of length 1:\n",
            "    width seq                                               names               \n",
            "[1]    58 \u001b[47m\u001b[30mA\u001b[39m\u001b[49m\u001b[47m\u001b[30mT\u001b[39m\u001b[49m\u001b[47m\u001b[30mG\u001b[39m\u001b[49m\u001b[47m\u001b[30mC\u001b[39m\u001b[49m\u001b[47m\u001b[30mC\u001b[39m\u001b[49m\u001b[47m\u001b[30mG\u001b[39m\u001b[49m\u001b[47m\u001b[30mT\u001b[39m\u001b[49m\u001b[47m\u001b[30mG\u001b[39m\u001b[49m\u001b[47m\u001b[30mG\u001b[39m\u001b[49m\u001b[47m\u001b[30mT\u001b[39m\u001b[49m\u001b[47m\u001b[30mA\u001b[39m\u001b[49m\u001b[47m\u001b[30mA\u001b[39m\u001b[49m\u001b[47m\u001b[30mA\u001b[39m\u001b[49m\u001b[47m\u001b[30mG\u001b[39m\u001b[49m\u001b[47m\u001b[30mC\u001b[39m\u001b[49m\u001b[47m\u001b[30mC\u001b[39m\u001b[49m\u001b[47m\u001b[30mT\u001b[39m\u001b[49m\u001b[47m\u001b[30mT\u001b[39m\u001b[49m\u001b[47m\u001b[30mA\u001b[39m\u001b[49m\u001b[47m\u001b[30mA\u001b[39m\u001b[49m\u001b[47m\u001b[30mG\u001b[39m\u001b[49m\u001b[47m\u001b[30mA\u001b[39m\u001b[49m\u001b[47m\u001b[30mG\u001b[39m\u001b[49m...\u001b[47m\u001b[30mG\u001b[39m\u001b[49m\u001b[47m\u001b[30mC\u001b[39m\u001b[49m\u001b[47m\u001b[30mT\u001b[39m\u001b[49m\u001b[47m\u001b[30mG\u001b[39m\u001b[49m\u001b[47m\u001b[30mT\u001b[39m\u001b[49m\u001b[47m\u001b[30mA\u001b[39m\u001b[49m\u001b[47m\u001b[30mC\u001b[39m\u001b[49m\u001b[47m\u001b[30mG\u001b[39m\u001b[49m\u001b[47m\u001b[37mS\u001b[39m\u001b[49m\u001b[47m\u001b[30mG\u001b[39m\u001b[49m\u001b[47m\u001b[30mC\u001b[39m\u001b[49m\u001b[47m\u001b[30mG\u001b[39m\u001b[49m\u001b[47m\u001b[30mC\u001b[39m\u001b[49m\u001b[47m\u001b[30mC\u001b[39m\u001b[49m\u001b[47m\u001b[30mC\u001b[39m\u001b[49m\u001b[47m\u001b[30mT\u001b[39m\u001b[49m\u001b[47m\u001b[30mT\u001b[39m\u001b[49m\u001b[47m\u001b[30mA\u001b[39m\u001b[49m\u001b[47m\u001b[30mA\u001b[39m\u001b[49m\u001b[47m\u001b[30mC\u001b[39m\u001b[49m\u001b[47m\u001b[30mG\u001b[39m\u001b[49m\u001b[47m\u001b[30mA\u001b[39m\u001b[49m\u001b[47m\u001b[30mG\u001b[39m\u001b[49m Example_seq\n"
          ]
        }
      ]
    },
    {
      "cell_type": "code",
      "metadata": {
        "colab": {
          "base_uri": "https://localhost:8080/"
        },
        "id": "_pVLmXyuteQr",
        "outputId": "0f71ffe0-9b33-4304-fb20-ab337d17472c"
      },
      "source": [
        "print(Dist)"
      ],
      "execution_count": 29,
      "outputs": [
        {
          "output_type": "stream",
          "name": "stdout",
          "text": [
            "             CY013200     CY013781     CY012128     CY013613     CY012160\n",
            "CY013781 0.0023567414                                                    \n",
            "CY012128 0.0082956403 0.0082945864                                       \n",
            "CY013613 0.0023573015 0.0011769940 0.0082956403                          \n",
            "CY012160 0.0023561960 0.0023554609 0.0082896464 0.0023561960             \n",
            "CY012272 0.0035408074 0.0035382838 0.0094882416 0.0035408074 0.0035403274\n",
            "CY010988 0.0065097947 0.0065091001 0.0124974288 0.0065097947 0.0065045888\n",
            "CY012288 0.0041326822 0.0041305571 0.0100890703 0.0041326822 0.0041309981\n",
            "CY012568 0.0047261662 0.0047244418 0.0106915574 0.0047261662 0.0047232714\n",
            "CY013016 0.0059149707 0.0059126609 0.0118939924 0.0059149707 0.0059111735\n",
            "CY012480 0.0118778101 0.0118746110 0.0179147136 0.0118778101 0.0118717890\n",
            "CY010748 0.0130945421 0.0130897092 0.0179258684 0.0130945421 0.0130864036\n",
            "CY011528 0.0130704352 0.0130676803 0.0191156589 0.0130704352 0.0130646749\n",
            "CY017291 0.0142754718 0.0142721199 0.0203347173 0.0142754718 0.0142687795\n",
            "CY012504 0.0094871543 0.0094810936 0.0154879195 0.0094871543 0.0094862543\n",
            "CY009476 0.0197231661 0.0197146990 0.0252198871 0.0197231661 0.0197160377\n",
            "CY010028 0.0209344888 0.0209235170 0.0264270670 0.0209344888 0.0209308286\n",
            "CY011128 0.0191152415 0.0191063540 0.0246025125 0.0191152415 0.0191093833\n",
            "CY010036 0.0166871148 0.0166794708 0.0221487984 0.0166871148 0.0166831143\n",
            "CY011424 0.0209395477 0.0209287793 0.0264376349 0.0209395477 0.0209344888\n",
            "CY006259 0.0252056572 0.0251959656 0.0307533500 0.0252056572 0.0251960549\n",
            "CY006243 0.0258108151 0.0258013421 0.0313624917 0.0258108151 0.0258013392\n",
            "CY006267 0.0252056572 0.0251959656 0.0307533500 0.0252056572 0.0251960549\n",
            "CY006235 0.0264270670 0.0264165293 0.0319822524 0.0264270670 0.0264179302\n",
            "CY006627 0.0258217218 0.0258124620 0.0313791214 0.0258217218 0.0258108151\n",
            "CY006787 0.0276500490 0.0276401625 0.0332189625 0.0276500490 0.0276397314\n",
            "CY006563 0.0258123068 0.0258013392 0.0313578268 0.0258123068 0.0258044689\n",
            "CY002384 0.0313643819 0.0313475563 0.0369433274 0.0313643819 0.0313590077\n",
            "CY008964 0.0252056166 0.0251927269 0.0307354942 0.0252056166 0.0252006956\n",
            "CY006595 0.0258108151 0.0258013421 0.0313624917 0.0258108151 0.0258013392\n",
            "CY001453 0.0338225485 0.0338052563 0.0394172285 0.0338225485 0.0338179275\n",
            "CY001413 0.0295083095 0.0294951961 0.0350878583 0.0295083095 0.0294990199\n",
            "CY001704 0.0307385330 0.0307228054 0.0363138592 0.0307385330 0.0307328089\n",
            "CY001616 0.0288874683 0.0288754354 0.0344634557 0.0288874683 0.0288778344\n",
            "CY003785 0.0331941911 0.0331780057 0.0387852227 0.0331941911 0.0331892174\n",
            "CY000737 0.0331927221 0.0331782915 0.0387956148 0.0331927221 0.0331846403\n",
            "CY001365 0.0350514999 0.0350366226 0.0406719422 0.0350514999 0.0350425742\n",
            "CY003272 0.0338131447 0.0337991519 0.0394258831 0.0338131447 0.0338037399\n",
            "CY000705 0.0338286120 0.0338115398 0.0394289869 0.0338286120 0.0338225485\n",
            "CY000657 0.0338115398 0.0337957880 0.0394123190 0.0338115398 0.0338052563\n",
            "             CY012272     CY010988     CY012288     CY012568     CY013016\n",
            "CY013781                                                                 \n",
            "CY012128                                                                 \n",
            "CY013613                                                                 \n",
            "CY012160                                                                 \n",
            "CY012272                                                                 \n",
            "CY010988 0.0041330248                                                    \n",
            "CY012288 0.0017670271 0.0047285296                                       \n",
            "CY012568 0.0023573015 0.0029468668 0.0029491763                          \n",
            "CY013016 0.0035402813 0.0065158521 0.0041337653 0.0047288673             \n",
            "CY012480 0.0124779971 0.0154925490 0.0130796477 0.0136829612 0.0148908762\n",
            "CY010748 0.0143004498 0.0173326938 0.0149062811 0.0155137984 0.0167279894\n",
            "CY011528 0.0136710887 0.0166900555 0.0142735634 0.0148777056 0.0160871035\n",
            "CY017291 0.0148771425 0.0179035823 0.0154812847 0.0160871035 0.0172995386\n",
            "CY012504 0.0082886251 0.0124780607 0.0100834664 0.0106814120 0.0118822642\n",
            "CY009476 0.0209460084 0.0239983697 0.0215556308 0.0221669604 0.0233935097\n",
            "CY010028 0.0221642388 0.0252072394 0.0227713118 0.0233800779 0.0246075266\n",
            "CY011128 0.0203380837 0.0233831667 0.0209460084 0.0215556308 0.0227804632\n",
            "CY010036 0.0179044478 0.0209344279 0.0185090052 0.0191152415 0.0203338955\n",
            "CY011424 0.0221686232 0.0252166290 0.0227769682 0.0233870134 0.0246154088\n",
            "CY006259 0.0264388905 0.0295212290 0.0270549551 0.0276727633 0.0276736889\n",
            "CY006243 0.0270447275 0.0301293673 0.0276612239 0.0282794663 0.0282802996\n",
            "CY006267 0.0264388905 0.0295212290 0.0270549551 0.0276727633 0.0276736889\n",
            "CY006235 0.0276638032 0.0307487853 0.0282802996 0.0288985420 0.0301390378\n",
            "CY006627 0.0270549551 0.0301447694 0.0264388905 0.0282923250 0.0282914971\n",
            "CY006787 0.0288874683 0.0319822524 0.0295061455 0.0301265812 0.0313696265\n",
            "CY006563 0.0270490430 0.0301265812 0.0276638032 0.0282802996 0.0295190394\n",
            "CY002384 0.0326204454 0.0344838987 0.0332364971 0.0338542924 0.0351040693\n",
            "CY008964 0.0264451897 0.0295083095 0.0270565067 0.0276695404 0.0289062262\n",
            "CY006595 0.0270447275 0.0301293673 0.0276612239 0.0282794663 0.0282802996\n",
            "CY001453 0.0350836641 0.0369502960 0.0357010129 0.0363201125 0.0375737449\n",
            "CY001413 0.0307542880 0.0338501095 0.0313729652 0.0319934008 0.0332407554\n",
            "CY001704 0.0319916838 0.0338554898 0.0326077355 0.0332255308 0.0344738411\n",
            "CY001616 0.0301305806 0.0332260547 0.0307492578 0.0313696934 0.0326156049\n",
            "CY003785 0.0344523706 0.0363193580 0.0350697193 0.0356888189 0.0369409730\n",
            "CY000737 0.0344472763 0.0363266983 0.0350676988 0.0356898898 0.0369433274\n",
            "CY001365 0.0363096794 0.0381966426 0.0369323107 0.0375567231 0.0388142202\n",
            "CY003272 0.0350676988 0.0369538080 0.0356898898 0.0363138592 0.0375690855\n",
            "CY000705 0.0350890183 0.0369610826 0.0357076825 0.0363281051 0.0375827108\n",
            "CY000657 0.0350697193 0.0356971670 0.0356888189 0.0363096794 0.0375636043\n",
            "             CY012480     CY010748     CY011528     CY017291     CY012504\n",
            "CY013781                                                                 \n",
            "CY012128                                                                 \n",
            "CY013613                                                                 \n",
            "CY012160                                                                 \n",
            "CY012272                                                                 \n",
            "CY010988                                                                 \n",
            "CY012288                                                                 \n",
            "CY012568                                                                 \n",
            "CY013016                                                                 \n",
            "CY012480                                                                 \n",
            "CY010748 0.0215656199                                                    \n",
            "CY011528 0.0011768405 0.0227707192                                       \n",
            "CY017291 0.0023554609 0.0227696927 0.0035358416                          \n",
            "CY012504 0.0173015602 0.0082957789 0.0185012057 0.0197163168             \n",
            "CY009476 0.0276638032 0.0179196667 0.0288778344 0.0301163816 0.0148978292\n",
            "CY010028 0.0288778344 0.0197234364 0.0300941041 0.0313342087 0.0172994707\n",
            "CY011128 0.0270490430 0.0173091856 0.0282622138 0.0294990199 0.0142978323\n",
            "CY010036 0.0251992730 0.0148854634 0.0264102214 0.0276424531 0.0124771565\n",
            "CY011424 0.0288874683 0.0197335829 0.0301034841 0.0313445629 0.0173015602\n",
            "CY006259 0.0319658750 0.0252340016 0.0331865796 0.0344342056 0.0215375453\n",
            "CY006243 0.0325759452 0.0258390128 0.0337977792 0.0350461956 0.0221401969\n",
            "CY006267 0.0319658750 0.0252340016 0.0331865796 0.0344342056 0.0215375453\n",
            "CY006235 0.0331992549 0.0264531882 0.0344217833 0.0350472317 0.0227533148\n",
            "CY006627 0.0325889605 0.0258544503 0.0338105490 0.0350599638 0.0221480138\n",
            "CY006787 0.0344342056 0.0276804170 0.0356587530 0.0362845508 0.0239681717\n",
            "CY006563 0.0325775037 0.0258340625 0.0337991519 0.0350472317 0.0221441272\n",
            "CY002384 0.0381875386 0.0313729652 0.0394168365 0.0406761291 0.0276695031\n",
            "CY008964 0.0332022545 0.0252166290 0.0344246004 0.0356741312 0.0215453408\n",
            "CY006595 0.0325759452 0.0258390128 0.0337977792 0.0350461956 0.0221401969\n",
            "CY001453 0.0406680399 0.0338284533 0.0419014961 0.0431647045 0.0301167870\n",
            "CY001413 0.0363138592 0.0301554827 0.0375405114 0.0387973374 0.0264299673\n",
            "CY001704 0.0375544091 0.0307492578 0.0387829905 0.0400407927 0.0270468863\n",
            "CY001616 0.0356858540 0.0295367489 0.0369118014 0.0381671610 0.0258123068\n",
            "CY003785 0.0400323430 0.0332022545 0.0412650770 0.0425267829 0.0294916876\n",
            "CY000737 0.0400326915 0.0332119236 0.0412653376 0.0425283420 0.0294847484\n",
            "CY001365 0.0419109240 0.0350728462 0.0431463363 0.0444134621 0.0313320426\n",
            "CY003272 0.0406602352 0.0338367927 0.0418937780 0.0431585968 0.0300994958\n",
            "CY000705 0.0406761291 0.0338390896 0.0419093232 0.0431735181 0.0301197880\n",
            "CY000657 0.0406567421 0.0338240057 0.0418903637 0.0431538659 0.0301034169\n",
            "             CY009476     CY010028     CY011128     CY010036     CY011424\n",
            "CY013781                                                                 \n",
            "CY012128                                                                 \n",
            "CY013613                                                                 \n",
            "CY012160                                                                 \n",
            "CY012272                                                                 \n",
            "CY010988                                                                 \n",
            "CY012288                                                                 \n",
            "CY012568                                                                 \n",
            "CY013016                                                                 \n",
            "CY012480                                                                 \n",
            "CY010748                                                                 \n",
            "CY011528                                                                 \n",
            "CY017291                                                                 \n",
            "CY012504                                                                 \n",
            "CY009476                                                                 \n",
            "CY010028 0.0136710887                                                    \n",
            "CY011128 0.0005886825 0.0130702722                                       \n",
            "CY010036 0.0065045888 0.0106704492 0.0059086806                          \n",
            "CY011424 0.0148713372 0.0035403274 0.0142684495 0.0118638719             \n",
            "CY006259 0.0191154555 0.0112866102 0.0185058331 0.0160797989 0.0124871891\n",
            "CY006243 0.0197164331 0.0118822035 0.0191063880 0.0166788595 0.0130837404\n",
            "CY006267 0.0191154555 0.0112866102 0.0185058331 0.0160797989 0.0124871891\n",
            "CY006235 0.0203247442 0.0124811236 0.0197146990 0.0172844439 0.0136829808\n",
            "CY006627 0.0197267851 0.0118911800 0.0191154555 0.0166860352 0.0130938560\n",
            "CY006787 0.0215387827 0.0136829808 0.0209266022 0.0184914524 0.0148879009\n",
            "CY006563 0.0197146990 0.0118778101 0.0191063540 0.0166794708 0.0130775789\n",
            "CY002384 0.0239717042 0.0172950957 0.0233620945 0.0221479586 0.0184996996\n",
            "CY008964 0.0191093833 0.0112764132 0.0185044102 0.0160814760 0.0124723614\n",
            "CY006595 0.0197164331 0.0118822035 0.0191063880 0.0166788595 0.0130837404\n",
            "CY001453 0.0251927269 0.0197059809 0.0245826944 0.0233677200 0.0209138152\n",
            "CY001413 0.0239868790 0.0160958030 0.0233729769 0.0209261494 0.0173038085\n",
            "CY001704 0.0233568547 0.0166871148 0.0227472449 0.0215331090 0.0178913885\n",
            "CY001616 0.0233740965 0.0154925490 0.0227601943 0.0203161337 0.0167002294\n",
            "CY003785 0.0251878779 0.0197014392 0.0245761359 0.0233577709 0.0209110466\n",
            "CY000737 0.0245812054 0.0190987261 0.0239681717 0.0227472449 0.0203091467\n",
            "CY001365 0.0264165293 0.0209181191 0.0258013392 0.0245761359 0.0221319733\n",
            "CY003272 0.0251959656 0.0197074921 0.0245812054 0.0233568547 0.0209200391\n",
            "CY000705 0.0251992730 0.0197103103 0.0245879561 0.0233704342 0.0209192795\n",
            "CY000657 0.0251878779 0.0197014392 0.0245761359 0.0233577709 0.0209110466\n",
            "             CY006259     CY006243     CY006267     CY006235     CY006627\n",
            "CY013781                                                                 \n",
            "CY012128                                                                 \n",
            "CY013613                                                                 \n",
            "CY012160                                                                 \n",
            "CY012272                                                                 \n",
            "CY010988                                                                 \n",
            "CY012288                                                                 \n",
            "CY012568                                                                 \n",
            "CY013016                                                                 \n",
            "CY012480                                                                 \n",
            "CY010748                                                                 \n",
            "CY011528                                                                 \n",
            "CY017291                                                                 \n",
            "CY012504                                                                 \n",
            "CY009476                                                                 \n",
            "CY010028                                                                 \n",
            "CY011128                                                                 \n",
            "CY010036                                                                 \n",
            "CY011424                                                                 \n",
            "CY006259                                                                 \n",
            "CY006243 0.0005881547                                                    \n",
            "CY006267 0.0000000000 0.0005881547                                       \n",
            "CY006235 0.0035428995 0.0041334868 0.0035428995                          \n",
            "CY006627 0.0005886825 0.0011772314 0.0005886825 0.0041384043             \n",
            "CY006787 0.0047293950 0.0053209210 0.0047293950 0.0011772314 0.0053269344\n",
            "CY006563 0.0029490148 0.0035392009 0.0029490148 0.0041296372 0.0035428995\n",
            "CY002384 0.0076936115 0.0082868954 0.0076936115 0.0094800085 0.0082870836\n",
            "CY008964 0.0035391401 0.0041296372 0.0035391401 0.0047213666 0.0041330248\n",
            "CY006595 0.0005881547 0.0011768405 0.0005881547 0.0041334868 0.0011772314\n",
            "CY001453 0.0100749628 0.0106701878 0.0100749628 0.0118668055 0.0106696384\n",
            "CY001413 0.0071021282 0.0076949984 0.0071021282 0.0082896464 0.0077013078\n",
            "CY001704 0.0070960161 0.0076889809 0.0070960161 0.0088807681 0.0076894881\n",
            "CY001616 0.0065091001 0.0071016563 0.0065091001 0.0076949984 0.0071082797\n",
            "CY003785 0.0100697562 0.0106650621 0.0100697562 0.0118619702 0.0106660563\n",
            "CY000737 0.0094726544 0.0100675030 0.0094726544 0.0112639898 0.0100701817\n",
            "CY001365 0.0112639898 0.0118601068 0.0112639898 0.0130602951 0.0118635655\n",
            "CY003272 0.0100701817 0.0106654364 0.0100701817 0.0118635655 0.0106693491\n",
            "CY000705 0.0100745531 0.0106696384 0.0100745531 0.0118671555 0.0106704492\n",
            "CY000657 0.0100697562 0.0106650621 0.0100697562 0.0118619702 0.0106660563\n",
            "             CY006787     CY006563     CY002384     CY008964     CY006595\n",
            "CY013781                                                                 \n",
            "CY012128                                                                 \n",
            "CY013613                                                                 \n",
            "CY012160                                                                 \n",
            "CY012272                                                                 \n",
            "CY010988                                                                 \n",
            "CY012288                                                                 \n",
            "CY012568                                                                 \n",
            "CY013016                                                                 \n",
            "CY012480                                                                 \n",
            "CY010748                                                                 \n",
            "CY011528                                                                 \n",
            "CY017291                                                                 \n",
            "CY012504                                                                 \n",
            "CY009476                                                                 \n",
            "CY010028                                                                 \n",
            "CY011128                                                                 \n",
            "CY010036                                                                 \n",
            "CY011424                                                                 \n",
            "CY006259                                                                 \n",
            "CY006243                                                                 \n",
            "CY006267                                                                 \n",
            "CY006235                                                                 \n",
            "CY006627                                                                 \n",
            "CY006787                                                                 \n",
            "CY006563 0.0053153565                                                    \n",
            "CY002384 0.0106704492 0.0088861358                                       \n",
            "CY008964 0.0059073985 0.0029484064 0.0094867082                          \n",
            "CY006595 0.0053209210 0.0035392009 0.0082868954 0.0041296372             \n",
            "CY001453 0.0130604085 0.0112717276 0.0071039751 0.0118746095 0.0106701878\n",
            "CY001413 0.0094833672 0.0076917008 0.0124809296 0.0082876603 0.0076949984\n",
            "CY001704 0.0100708881 0.0082868954 0.0005885300 0.0088861358 0.0076889809\n",
            "CY001616 0.0088884035 0.0070970529 0.0118780002 0.0076917008 0.0071016563\n",
            "CY003785 0.0130572929 0.0112652657 0.0070967195 0.0118668055 0.0106650621\n",
            "CY000737 0.0124600915 0.0106660563 0.0070932114 0.0112659385 0.0100675030\n",
            "CY001365 0.0142597372 0.0124603104 0.0082828536 0.0130618502 0.0118601068\n",
            "CY003272 0.0130617299 0.0112639898 0.0070932114 0.0118638719 0.0106654364\n",
            "CY000705 0.0130618502 0.0112708554 0.0071017486 0.0118734131 0.0106696384\n",
            "CY000657 0.0130572929 0.0112652657 0.0070967195 0.0118668055 0.0106650621\n",
            "             CY001453     CY001413     CY001704     CY001616     CY003785\n",
            "CY013781                                                                 \n",
            "CY012128                                                                 \n",
            "CY013613                                                                 \n",
            "CY012160                                                                 \n",
            "CY012272                                                                 \n",
            "CY010988                                                                 \n",
            "CY012288                                                                 \n",
            "CY012568                                                                 \n",
            "CY013016                                                                 \n",
            "CY012480                                                                 \n",
            "CY010748                                                                 \n",
            "CY011528                                                                 \n",
            "CY017291                                                                 \n",
            "CY012504                                                                 \n",
            "CY009476                                                                 \n",
            "CY010028                                                                 \n",
            "CY011128                                                                 \n",
            "CY010036                                                                 \n",
            "CY011424                                                                 \n",
            "CY006259                                                                 \n",
            "CY006243                                                                 \n",
            "CY006267                                                                 \n",
            "CY006235                                                                 \n",
            "CY006627                                                                 \n",
            "CY006787                                                                 \n",
            "CY006563                                                                 \n",
            "CY002384                                                                 \n",
            "CY008964                                                                 \n",
            "CY006595                                                                 \n",
            "CY001453                                                                 \n",
            "CY001413 0.0148763840                                                    \n",
            "CY001704 0.0065060607 0.0118780002                                       \n",
            "CY001616 0.0142711268 0.0029484064 0.0112764132                          \n",
            "CY003785 0.0035376266 0.0148723539 0.0065001253 0.0142684495             \n",
            "CY000737 0.0035391401 0.0136710887 0.0064982476 0.0130688549 0.0023567414\n",
            "CY001365 0.0047213666 0.0160797989 0.0076862594 0.0154758945 0.0035369649\n",
            "CY003272 0.0035391401 0.0148777056 0.0064982476 0.0142754718 0.0023567414\n",
            "CY000705 0.0035403274 0.0148795981 0.0065041531 0.0142746678 0.0023585363\n",
            "CY000657 0.0023554609 0.0148723539 0.0065001253 0.0142684495 0.0035369649\n",
            "             CY000737     CY001365     CY003272     CY000705\n",
            "CY013781                                                    \n",
            "CY012128                                                    \n",
            "CY013613                                                    \n",
            "CY012160                                                    \n",
            "CY012272                                                    \n",
            "CY010988                                                    \n",
            "CY012288                                                    \n",
            "CY012568                                                    \n",
            "CY013016                                                    \n",
            "CY012480                                                    \n",
            "CY010748                                                    \n",
            "CY011528                                                    \n",
            "CY017291                                                    \n",
            "CY012504                                                    \n",
            "CY009476                                                    \n",
            "CY010028                                                    \n",
            "CY011128                                                    \n",
            "CY010036                                                    \n",
            "CY011424                                                    \n",
            "CY006259                                                    \n",
            "CY006243                                                    \n",
            "CY006267                                                    \n",
            "CY006235                                                    \n",
            "CY006627                                                    \n",
            "CY006787                                                    \n",
            "CY006563                                                    \n",
            "CY002384                                                    \n",
            "CY008964                                                    \n",
            "CY006595                                                    \n",
            "CY001453                                                    \n",
            "CY001413                                                    \n",
            "CY001704                                                    \n",
            "CY001616                                                    \n",
            "CY003785                                                    \n",
            "CY000737                                                    \n",
            "CY001365 0.0035428995                                       \n",
            "CY003272 0.0023643158 0.0035428995                          \n",
            "CY000705 0.0023573015 0.0035382838 0.0023573015             \n",
            "CY000657 0.0035428995 0.0047239231 0.0035428995 0.0035382838\n"
          ]
        }
      ]
    }
  ]
}